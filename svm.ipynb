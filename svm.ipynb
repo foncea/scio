{
 "cells": [
  {
   "cell_type": "code",
   "execution_count": 1,
   "metadata": {
    "execution": {
     "iopub.execute_input": "2020-12-21T13:47:09.838167Z",
     "iopub.status.busy": "2020-12-21T13:47:09.837094Z",
     "iopub.status.idle": "2020-12-21T13:47:40.074660Z",
     "shell.execute_reply": "2020-12-21T13:47:40.074660Z",
     "shell.execute_reply.started": "2020-12-21T13:47:09.838167Z"
    }
   },
   "outputs": [],
   "source": [
    "import pandas as pd\n",
    "import numpy as np\n",
    "from scipy import stats\n",
    "\n",
    "from interpretableai import iai\n",
    "\n",
    "from sklearn.linear_model import LogisticRegression\n",
    "from sklearn.svm import SVC\n",
    "from sklearn import metrics\n",
    "from sklearn import preprocessing"
   ]
  },
  {
   "cell_type": "code",
   "execution_count": 2,
   "metadata": {
    "execution": {
     "iopub.execute_input": "2020-12-21T13:47:40.079102Z",
     "iopub.status.busy": "2020-12-21T13:47:40.079102Z",
     "iopub.status.idle": "2020-12-21T13:47:40.110802Z",
     "shell.execute_reply": "2020-12-21T13:47:40.107353Z",
     "shell.execute_reply.started": "2020-12-21T13:47:40.079102Z"
    }
   },
   "outputs": [],
   "source": [
    "def bmi_segment(x):\n",
    "    if x < 18.5:\n",
    "        return 'BMI -18'\n",
    "    if x < 25:\n",
    "        return 'BMI 18-25'\n",
    "    if x < 30:\n",
    "        return 'BMI 25-30'\n",
    "    return 'BMI 30-'\n",
    "  \n",
    "def dxa_levels(x):\n",
    "  if x < 60: return 0\n",
    "  return 1\n",
    "  if x < 25: return '1'\n",
    "  if x < 50: return '2'\n",
    "  if x < 75: return '3'\n",
    "  return '4'\n",
    "  \n",
    "def impute_then_predict(method, seed, kernel):\n",
    "    imputer = iai.ImputationLearner(\n",
    "        method=method,\n",
    "        cluster=True,\n",
    "        cluster_max_size=100,\n",
    "        random_seed=seed,\n",
    "    )\n",
    "    \n",
    "    train_X_imputed =  preprocessing.scale(imputer.fit_transform(train_X))\n",
    "    test_X_imputed =  preprocessing.scale(imputer.transform(test_X))\n",
    "\n",
    "    model = SVC(kernel=kernel, \n",
    "                random_state=seed, \n",
    "                class_weight='balanced')\n",
    "    model.fit(train_X_imputed, train_y)\n",
    "    \n",
    "    results = {\n",
    "        'method': method,\n",
    "        'ins_acc': model.score(train_X_imputed, train_y),\n",
    "        'oos_acc': model.score(test_X_imputed, test_y),\n",
    "        'benchmark_oos_acc': (test_y == stats.mode(train_y)[0]).sum() / test_y.shape[0],\n",
    "#         'ins_auc': metrics.roc_auc_score(train_y, model.predict_proba(train_X_imputed)[:, 1]),\n",
    "#         'oos_auc': metrics.roc_auc_score(test_y, model.predict_proba(test_X_imputed)[:, 1]),\n",
    "#         'benchmark_oos_auc': metrics.roc_auc_score(test_y, [stats.mode(train_y)[0]] * test_y.shape[0]),\n",
    "    }\n",
    "    \n",
    "    confusion_matrix = metrics.confusion_matrix(test_y, model.predict(test_X_imputed))\n",
    "    \n",
    "    roc_curve = []\n",
    "#     roc_curve = iai.ROCCurve(grid, test_X_imputed, test_y)\n",
    "        \n",
    "    return results, model, roc_curve, confusion_matrix\n",
    "  \n",
    "def spectrum_mean_kernel(df, window=50, overlap=0):\n",
    "  aux = df.copy()\n",
    "  for i in range(int(331 / (window - overlap)) + 1):\n",
    "    start = (window - overlap) * i\n",
    "    end = start + window\n",
    "    if end > 331:\n",
    "      end = 331\n",
    "    aux['spectrum_mean_' + str(start) + ':' + str(end)] = aux[spectrum_cols[start:end]].mean(axis=1)\n",
    "#     segments.append(spectrum_cols[start:end])\n",
    "  return aux"
   ]
  },
  {
   "cell_type": "code",
   "execution_count": 3,
   "metadata": {
    "execution": {
     "iopub.execute_input": "2020-12-21T13:47:40.116600Z",
     "iopub.status.busy": "2020-12-21T13:47:40.114906Z",
     "iopub.status.idle": "2020-12-21T13:47:42.434286Z",
     "shell.execute_reply": "2020-12-21T13:47:42.432187Z",
     "shell.execute_reply.started": "2020-12-21T13:47:40.116600Z"
    }
   },
   "outputs": [],
   "source": [
    "df = pd.read_csv('data/scio_dxa_densidad_27_11.csv')\n",
    "df['ubicacion'] = df['ubicacion'].astype(str)\n",
    "\n",
    "folio_filter = pd.read_csv('folio_filter.csv')['folio']\n",
    "df = df.loc[~df['folio'].isin(folio_filter)]"
   ]
  },
  {
   "cell_type": "code",
   "execution_count": 4,
   "metadata": {
    "execution": {
     "iopub.execute_input": "2020-12-21T13:47:42.437622Z",
     "iopub.status.busy": "2020-12-21T13:47:42.436623Z",
     "iopub.status.idle": "2020-12-21T13:47:42.457484Z",
     "shell.execute_reply": "2020-12-21T13:47:42.456132Z",
     "shell.execute_reply.started": "2020-12-21T13:47:42.437622Z"
    }
   },
   "outputs": [],
   "source": [
    "target = 'valor_dxa'\n",
    "bin_target = 'bin_' + target\n",
    "s_target = 'segment_' + target\n",
    "\n",
    "features = ['copasosten',\n",
    "            'edad',\n",
    "#             'peso',\n",
    "            'indicedemasacorporal',\n",
    "#             'talla',\n",
    "            'fitzpatrickcolor'\n",
    "           ]\n",
    "\n",
    "spectrum_cols = [col for col in df.columns if col.startswith('spectrum')]\n",
    "sample_raw_cols = [col for col in df.columns if col.startswith('sample_raw')]"
   ]
  },
  {
   "cell_type": "code",
   "execution_count": 5,
   "metadata": {
    "execution": {
     "iopub.execute_input": "2020-12-21T13:47:42.459590Z",
     "iopub.status.busy": "2020-12-21T13:47:42.459590Z",
     "iopub.status.idle": "2020-12-21T13:47:42.679770Z",
     "shell.execute_reply": "2020-12-21T13:47:42.678770Z",
     "shell.execute_reply.started": "2020-12-21T13:47:42.459590Z"
    }
   },
   "outputs": [],
   "source": [
    "df_clean = (df\n",
    "            .dropna(subset=[target])\n",
    "            .loc[lambda x: ~x['ubicacion'].str.contains('Pezon')]\n",
    "            [['folio', 'mama', target] + features + spectrum_cols]\n",
    "            .rename(columns={'indicedemasacorporal': 'BMI'})\n",
    "            .assign(**{bin_target: lambda x: x[target] > 50,#np.quantile(x[target], 0.75),\n",
    "                       s_target: lambda x: x[target].map(dxa_levels),\n",
    "                       \"BMI_segment\": lambda x: x['BMI'].map(bmi_segment)})\n",
    "            .drop(columns=[target])\n",
    "           )"
   ]
  },
  {
   "cell_type": "code",
   "execution_count": 6,
   "metadata": {
    "execution": {
     "iopub.execute_input": "2020-12-21T13:47:42.682275Z",
     "iopub.status.busy": "2020-12-21T13:47:42.680766Z",
     "iopub.status.idle": "2020-12-21T13:47:44.308368Z",
     "shell.execute_reply": "2020-12-21T13:47:44.307371Z",
     "shell.execute_reply.started": "2020-12-21T13:47:42.682275Z"
    }
   },
   "outputs": [],
   "source": [
    "features_final = [f for f in features + ['BMI', 'BMI_segment'] if f != 'indicedemasacorporal']\n",
    "\n",
    "categorical_feats = ['copasosten', \n",
    "                     'fitzpatrickcolor',\n",
    "                     'BMI_segment'\n",
    "                    ]\n",
    "\n",
    "agg_dict = {**{f: 'first' for f in features_final + [bin_target, s_target]},\n",
    "            **{s: 'mean' for s in spectrum_cols}}\n",
    "\n",
    "df_clean_agg = (\n",
    "    df_clean\n",
    "        .groupby(['folio', 'mama'], as_index=False)\n",
    "        .agg(agg_dict)\n",
    "        .assign(**{i: (lambda y: lambda x: x[y].astype('category'))(i) for i in categorical_feats})\n",
    "        .assign(spectrum_mean = lambda x: x[spectrum_cols].mean(axis=1))\n",
    "        .pipe(spectrum_mean_kernel, window=3, overlap=1)\n",
    ")"
   ]
  },
  {
   "cell_type": "code",
   "execution_count": 16,
   "metadata": {
    "execution": {
     "iopub.execute_input": "2020-12-21T13:50:11.473416Z",
     "iopub.status.busy": "2020-12-21T13:50:11.473416Z",
     "iopub.status.idle": "2020-12-21T13:50:11.509264Z",
     "shell.execute_reply": "2020-12-21T13:50:11.507481Z",
     "shell.execute_reply.started": "2020-12-21T13:50:11.473416Z"
    }
   },
   "outputs": [],
   "source": [
    "# Select features\n",
    "\n",
    "features_final = [i for i in df_clean_agg.columns if i.startswith('spectrum_mean_')] +\\\n",
    "                 [\n",
    "                  'copasosten',\n",
    "                  'edad',\n",
    "                  'fitzpatrickcolor',\n",
    "                  'BMI'\n",
    "                  ]\n",
    "                \n",
    "\n",
    "df_final = (\n",
    "  df_clean_agg[features_final + [s_target]]\n",
    "  .join(pd.get_dummies(df_clean_agg[[i for i in categorical_feats if i in features_final]]))\n",
    "  .drop(columns=[i for i in categorical_feats if i in features_final])\n",
    ")"
   ]
  },
  {
   "cell_type": "code",
   "execution_count": 17,
   "metadata": {
    "execution": {
     "iopub.execute_input": "2020-12-21T13:50:20.333706Z",
     "iopub.status.busy": "2020-12-21T13:50:20.333706Z",
     "iopub.status.idle": "2020-12-21T13:50:20.509226Z",
     "shell.execute_reply": "2020-12-21T13:50:20.499815Z",
     "shell.execute_reply.started": "2020-12-21T13:50:20.333706Z"
    }
   },
   "outputs": [],
   "source": [
    "X = df_final.drop(columns=[s_target])\n",
    "y = df_final[s_target]\n",
    "\n",
    "(train_X, train_y), (test_X, test_y) = iai.split_data('classification', X, y, seed=1)"
   ]
  },
  {
   "cell_type": "code",
   "execution_count": 18,
   "metadata": {
    "execution": {
     "iopub.execute_input": "2020-12-21T13:50:22.560181Z",
     "iopub.status.busy": "2020-12-21T13:50:22.560181Z",
     "iopub.status.idle": "2020-12-21T13:50:22.679932Z",
     "shell.execute_reply": "2020-12-21T13:50:22.679932Z",
     "shell.execute_reply.started": "2020-12-21T13:50:22.560181Z"
    }
   },
   "outputs": [],
   "source": [
    "results, model, roc_curve, confusion_matrix = impute_then_predict('mean', 1, 'linear')"
   ]
  },
  {
   "cell_type": "code",
   "execution_count": 19,
   "metadata": {
    "execution": {
     "iopub.execute_input": "2020-12-21T13:50:22.967312Z",
     "iopub.status.busy": "2020-12-21T13:50:22.967312Z",
     "iopub.status.idle": "2020-12-21T13:50:22.983614Z",
     "shell.execute_reply": "2020-12-21T13:50:22.982422Z",
     "shell.execute_reply.started": "2020-12-21T13:50:22.967312Z"
    }
   },
   "outputs": [
    {
     "data": {
      "text/plain": [
       "({'method': 'mean',\n",
       "  'ins_acc': 0.6993006993006993,\n",
       "  'oos_acc': 0.7377049180327869,\n",
       "  'benchmark_oos_acc': 0.7377049180327869},\n",
       " array([[61, 29],\n",
       "        [ 3, 29]], dtype=int64))"
      ]
     },
     "execution_count": 19,
     "metadata": {},
     "output_type": "execute_result"
    }
   ],
   "source": [
    "results, confusion_matrix"
   ]
  },
  {
   "cell_type": "code",
   "execution_count": 88,
   "metadata": {
    "execution": {
     "iopub.execute_input": "2020-12-17T04:04:44.061602Z",
     "iopub.status.busy": "2020-12-17T04:04:44.060606Z",
     "iopub.status.idle": "2020-12-17T04:04:44.071104Z",
     "shell.execute_reply": "2020-12-17T04:04:44.070107Z",
     "shell.execute_reply.started": "2020-12-17T04:04:44.061602Z"
    }
   },
   "outputs": [
    {
     "data": {
      "text/plain": [
       "{'method': 'mean',\n",
       " 'ins_acc': 0.8006993006993007,\n",
       " 'oos_acc': 0.8278688524590164,\n",
       " 'benchmark_oos_acc': 0.7377049180327869}"
      ]
     },
     "execution_count": 88,
     "metadata": {},
     "output_type": "execute_result"
    }
   ],
   "source": [
    "results, confusion_matrix"
   ]
  },
  {
   "cell_type": "code",
   "execution_count": 89,
   "metadata": {
    "execution": {
     "iopub.execute_input": "2020-12-17T04:04:45.496269Z",
     "iopub.status.busy": "2020-12-17T04:04:45.496269Z",
     "iopub.status.idle": "2020-12-17T04:04:45.510606Z",
     "shell.execute_reply": "2020-12-17T04:04:45.509181Z",
     "shell.execute_reply.started": "2020-12-17T04:04:45.496269Z"
    }
   },
   "outputs": [
    {
     "data": {
      "text/plain": [
       "array([[72, 18],\n",
       "       [ 3, 29]], dtype=int64)"
      ]
     },
     "execution_count": 89,
     "metadata": {},
     "output_type": "execute_result"
    }
   ],
   "source": []
  },
  {
   "cell_type": "code",
   "execution_count": 90,
   "metadata": {
    "execution": {
     "iopub.execute_input": "2020-12-17T04:04:47.560554Z",
     "iopub.status.busy": "2020-12-17T04:04:47.560554Z",
     "iopub.status.idle": "2020-12-17T04:04:47.594980Z",
     "shell.execute_reply": "2020-12-17T04:04:47.593983Z",
     "shell.execute_reply.started": "2020-12-17T04:04:47.560554Z"
    }
   },
   "outputs": [
    {
     "data": {
      "text/html": [
       "<div>\n",
       "<style scoped>\n",
       "    .dataframe tbody tr th:only-of-type {\n",
       "        vertical-align: middle;\n",
       "    }\n",
       "\n",
       "    .dataframe tbody tr th {\n",
       "        vertical-align: top;\n",
       "    }\n",
       "\n",
       "    .dataframe thead th {\n",
       "        text-align: right;\n",
       "    }\n",
       "</style>\n",
       "<table border=\"1\" class=\"dataframe\">\n",
       "  <thead>\n",
       "    <tr style=\"text-align: right;\">\n",
       "      <th></th>\n",
       "      <th>feature</th>\n",
       "      <th>coefficient</th>\n",
       "    </tr>\n",
       "  </thead>\n",
       "  <tbody>\n",
       "    <tr>\n",
       "      <th>0</th>\n",
       "      <td>edad</td>\n",
       "      <td>1.522897e-01</td>\n",
       "    </tr>\n",
       "    <tr>\n",
       "      <th>1</th>\n",
       "      <td>BMI</td>\n",
       "      <td>-1.061765e+00</td>\n",
       "    </tr>\n",
       "    <tr>\n",
       "      <th>2</th>\n",
       "      <td>spectrum_mean_0:3</td>\n",
       "      <td>-7.064979e-02</td>\n",
       "    </tr>\n",
       "    <tr>\n",
       "      <th>3</th>\n",
       "      <td>spectrum_mean_2:5</td>\n",
       "      <td>-2.112009e-02</td>\n",
       "    </tr>\n",
       "    <tr>\n",
       "      <th>4</th>\n",
       "      <td>spectrum_mean_4:7</td>\n",
       "      <td>9.373945e-03</td>\n",
       "    </tr>\n",
       "    <tr>\n",
       "      <th>...</th>\n",
       "      <td>...</td>\n",
       "      <td>...</td>\n",
       "    </tr>\n",
       "    <tr>\n",
       "      <th>171</th>\n",
       "      <td>copasosten_D</td>\n",
       "      <td>-7.315558e-02</td>\n",
       "    </tr>\n",
       "    <tr>\n",
       "      <th>172</th>\n",
       "      <td>fitzpatrickcolor_II</td>\n",
       "      <td>6.775120e-02</td>\n",
       "    </tr>\n",
       "    <tr>\n",
       "      <th>173</th>\n",
       "      <td>fitzpatrickcolor_III</td>\n",
       "      <td>-3.143846e-01</td>\n",
       "    </tr>\n",
       "    <tr>\n",
       "      <th>174</th>\n",
       "      <td>fitzpatrickcolor_IV</td>\n",
       "      <td>2.634483e-01</td>\n",
       "    </tr>\n",
       "    <tr>\n",
       "      <th>175</th>\n",
       "      <td>fitzpatrickcolor_V</td>\n",
       "      <td>2.081668e-16</td>\n",
       "    </tr>\n",
       "  </tbody>\n",
       "</table>\n",
       "<p>176 rows × 2 columns</p>\n",
       "</div>"
      ],
      "text/plain": [
       "                  feature   coefficient\n",
       "0                    edad  1.522897e-01\n",
       "1                     BMI -1.061765e+00\n",
       "2       spectrum_mean_0:3 -7.064979e-02\n",
       "3       spectrum_mean_2:5 -2.112009e-02\n",
       "4       spectrum_mean_4:7  9.373945e-03\n",
       "..                    ...           ...\n",
       "171          copasosten_D -7.315558e-02\n",
       "172   fitzpatrickcolor_II  6.775120e-02\n",
       "173  fitzpatrickcolor_III -3.143846e-01\n",
       "174   fitzpatrickcolor_IV  2.634483e-01\n",
       "175    fitzpatrickcolor_V  2.081668e-16\n",
       "\n",
       "[176 rows x 2 columns]"
      ]
     },
     "execution_count": 90,
     "metadata": {},
     "output_type": "execute_result"
    }
   ],
   "source": [
    "pd.DataFrame({'feature': list(train_X.columns), 'coefficient': model.coef_[0]})"
   ]
  },
  {
   "cell_type": "code",
   "execution_count": null,
   "metadata": {},
   "outputs": [],
   "source": []
  }
 ],
 "metadata": {
  "kernelspec": {
   "display_name": "Python 3",
   "language": "python",
   "name": "python3"
  },
  "language_info": {
   "codemirror_mode": {
    "name": "ipython",
    "version": 3
   },
   "file_extension": ".py",
   "mimetype": "text/x-python",
   "name": "python",
   "nbconvert_exporter": "python",
   "pygments_lexer": "ipython3",
   "version": "3.8.2"
  }
 },
 "nbformat": 4,
 "nbformat_minor": 4
}
