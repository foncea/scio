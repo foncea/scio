{
 "cells": [
  {
   "cell_type": "code",
   "execution_count": 1,
   "metadata": {},
   "outputs": [],
   "source": [
    "import pandas as pd\n",
    "import numpy as np"
   ]
  },
  {
   "cell_type": "code",
   "execution_count": 2,
   "metadata": {},
   "outputs": [
    {
     "name": "stderr",
     "output_type": "stream",
     "text": [
      "c:\\python38\\lib\\site-packages\\IPython\\core\\interactiveshell.py:3062: DtypeWarning: Columns (3,5,8,9,12,14,15,18,22,25,26,27,28,29,30,31,32,33,34,35,36,37,38,39,40,41,42,43,44,45,46,47,48,49,50,51,52,53,54,55,56,57,58,59,60,61,62,63,64,65,66,67,68,69,70,71,72,73,74,75,76,77,78,79,80,81,82,83,84,85,86,87,88,89,90,91,92,93,94,95,96,97,98,99,100,101,102,103,104,105,106,107,108,109,110,111,112,113,114,115,116,117) have mixed types.Specify dtype option on import or set low_memory=False.\n",
      "  has_raised = await self.run_ast_nodes(code_ast.body, cell_name,\n"
     ]
    }
   ],
   "source": [
    "df = pd.read_csv('../mediciones_scio.csv', encoding = \"ISO-8859-1\", sep=';')"
   ]
  },
  {
   "cell_type": "code",
   "execution_count": 3,
   "metadata": {},
   "outputs": [],
   "source": [
    "df.rename(columns={'Folio': 'folio',\n",
    "                   'Color Pezí_n': 'color_pezon', \n",
    "                   'Copa sostí©n': 'copa_sosten', \n",
    "                   'Edad en aí±os': 'edad', \n",
    "                   'Ubicacií_n Scan': 'ubicacion_scan',\n",
    "                   'Medida radio medio pezí_n': 'medida_radio_medio_pezon'}, inplace=True)"
   ]
  },
  {
   "cell_type": "code",
   "execution_count": 4,
   "metadata": {},
   "outputs": [],
   "source": [
    "atributos = list(df.columns[:25])"
   ]
  },
  {
   "cell_type": "code",
   "execution_count": 5,
   "metadata": {},
   "outputs": [],
   "source": [
    "raw_cols = {'sample_raw_' + str(i) + ' + 740': 'sample_raw_' + str(i) for i in range(331)}\n",
    "wr_raw_cols = {'wr_raw_' + str(i) + ' + 740': 'wr_raw_' + str(i) for i in range(331)}\n",
    "spectrum_cols = {'spectrum_' + str(i) + ' + 740': 'spectrum_' + str(i) for i in range(331)}\n",
    "df = df.rename(columns=raw_cols).rename(columns=spectrum_cols).rename(columns=wr_raw_cols)\n",
    "raw_cols = list(raw_cols.values())\n",
    "wr_cols = list(wr_raw_cols.values())\n",
    "spectrum_cols = list(spectrum_cols.values())"
   ]
  },
  {
   "cell_type": "code",
   "execution_count": 6,
   "metadata": {},
   "outputs": [],
   "source": [
    "# pd.set_option('display.max_columns', None)\n",
    "# display(df)"
   ]
  },
  {
   "cell_type": "code",
   "execution_count": 6,
   "metadata": {},
   "outputs": [
    {
     "data": {
      "text/plain": [
       "['id',\n",
       " 'sample_id',\n",
       " 'sampling_time',\n",
       " 'folio',\n",
       " 'color_pezon',\n",
       " '%FGV',\n",
       " 'Espacio',\n",
       " 'copa_sosten',\n",
       " 'AFGV',\n",
       " 'edad',\n",
       " 'Densidad Mamaria DXA',\n",
       " 'ubicacion_scan',\n",
       " 'Peso',\n",
       " 'Indice de Masa Corporal',\n",
       " 'BV',\n",
       " 'Talla',\n",
       " 'Fitzpatrick color',\n",
       " 'Fecha de Nacimiento',\n",
       " 'medida_radio_medio_pezon',\n",
       " 'Percent FGV',\n",
       " 'device_id',\n",
       " 'comment',\n",
       " 'temperature',\n",
       " 'location',\n",
       " 'outlier']"
      ]
     },
     "execution_count": 6,
     "metadata": {},
     "output_type": "execute_result"
    }
   ],
   "source": [
    "atributos"
   ]
  },
  {
   "cell_type": "code",
   "execution_count": 6,
   "metadata": {},
   "outputs": [],
   "source": [
    "dxa = pd.read_csv('../resultados dxa.csv')[['folio', 'DXA_bd', 'DXA_bv', 'DXA_db']]\n",
    "dxa.rename(columns={'DXA_bd': 'DXA_densidad',\n",
    "                    'DXA_bv': 'DXA_volumen',\n",
    "                    'DXA_db': 'DXA_tejido'}, inplace=True)"
   ]
  },
  {
   "cell_type": "code",
   "execution_count": 8,
   "metadata": {},
   "outputs": [],
   "source": [
    "dxa.merge(df, on='folio').drop(['%FGV', 'Densidad Mamaria DXA', 'sampling_time', 'Espacio', 'id', 'Unnamed: 1018', 'comment', \"device_id\", 'outlier'] + wr_cols, axis=1).to_csv('../scio_clean.csv')"
   ]
  },
  {
   "cell_type": "code",
   "execution_count": 8,
   "metadata": {},
   "outputs": [],
   "source": [
    "# pd.set_option('display.max_rows', None)\n",
    "# display(df[spectrum_cols[1]].describe)"
   ]
  },
  {
   "cell_type": "code",
   "execution_count": 10,
   "metadata": {},
   "outputs": [
    {
     "data": {
      "text/plain": [
       "0       2441.39\n",
       "1       2441.39\n",
       "2       2441.39\n",
       "3       2441.39\n",
       "4       2441.39\n",
       "         ...   \n",
       "9124    2409.90\n",
       "9125    2409.90\n",
       "9126    2409.90\n",
       "9127    2409.90\n",
       "9128    2409.90\n",
       "Name: wr_raw_0, Length: 9129, dtype: float64"
      ]
     },
     "execution_count": 10,
     "metadata": {},
     "output_type": "execute_result"
    }
   ],
   "source": [
    "df[wr_cols[0]]"
   ]
  },
  {
   "cell_type": "code",
   "execution_count": 7,
   "metadata": {},
   "outputs": [],
   "source": [
    "aux = df\n",
    "for i in range(331):\n",
    "    aux = aux[aux[spectrum_cols[i]].astype(str).str.startswith(\"0.\")]"
   ]
  },
  {
   "cell_type": "code",
   "execution_count": 8,
   "metadata": {},
   "outputs": [],
   "source": [
    "aux[raw_cols] = aux[raw_cols].astype(float)\n",
    "aux[wr_cols] = aux[wr_cols].astype(float)\n",
    "aux[spectrum_cols] = aux[spectrum_cols].astype(float)\n",
    "\n",
    "dxa.merge(aux, on='folio').drop(['%FGV', 'Densidad Mamaria DXA', 'sampling_time', 'Espacio', 'id', 'Unnamed: 1018', 'comment', \"device_id\", 'outlier'] + wr_cols, axis=1).to_csv('../scio_clean_3.csv')"
   ]
  },
  {
   "cell_type": "code",
   "execution_count": 85,
   "metadata": {},
   "outputs": [],
   "source": [
    "aux[raw_cols] = aux[raw_cols].astype(float)\n",
    "dxa.merge(aux, on='folio').drop(['%FGV', 'Densidad Mamaria DXA', 'sampling_time', 'Espacio', 'id', 'Unnamed: 1018'] + spectrum_cols, axis=1).to_csv('../scio_raw.csv')"
   ]
  },
  {
   "cell_type": "code",
   "execution_count": 84,
   "metadata": {},
   "outputs": [],
   "source": [
    "aux[raw_cols] = aux[raw_cols].astype(float)"
   ]
  },
  {
   "cell_type": "code",
   "execution_count": 76,
   "metadata": {},
   "outputs": [
    {
     "data": {
      "text/plain": [
       "9126"
      ]
     },
     "execution_count": 76,
     "metadata": {},
     "output_type": "execute_result"
    }
   ],
   "source": [
    "df[spectrum_cols[1]].astype(str).str.startswith(\"0.\").sum()"
   ]
  }
 ],
 "metadata": {
  "kernelspec": {
   "display_name": "Python 3",
   "language": "python",
   "name": "python3"
  },
  "language_info": {
   "codemirror_mode": {
    "name": "ipython",
    "version": 3
   },
   "file_extension": ".py",
   "mimetype": "text/x-python",
   "name": "python",
   "nbconvert_exporter": "python",
   "pygments_lexer": "ipython3",
   "version": "3.8.2"
  }
 },
 "nbformat": 4,
 "nbformat_minor": 4
}
