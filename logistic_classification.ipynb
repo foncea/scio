{
 "cells": [
  {
   "cell_type": "code",
   "execution_count": 1,
   "metadata": {
    "execution": {
     "iopub.execute_input": "2020-12-21T19:05:08.333383Z",
     "iopub.status.busy": "2020-12-21T19:05:08.333383Z",
     "iopub.status.idle": "2020-12-21T19:05:50.985185Z",
     "shell.execute_reply": "2020-12-21T19:05:50.984187Z",
     "shell.execute_reply.started": "2020-12-21T19:05:08.333383Z"
    }
   },
   "outputs": [],
   "source": [
    "import pandas as pd\n",
    "import numpy as np\n",
    "from scipy import stats\n",
    "\n",
    "from interpretableai import iai\n",
    "\n",
    "from sklearn.linear_model import LogisticRegression\n",
    "from sklearn.svm import LinearSVC\n",
    "from sklearn import metrics\n",
    "from sklearn import preprocessing"
   ]
  },
  {
   "cell_type": "code",
   "execution_count": 2,
   "metadata": {
    "execution": {
     "iopub.execute_input": "2020-12-21T19:05:50.990246Z",
     "iopub.status.busy": "2020-12-21T19:05:50.989244Z",
     "iopub.status.idle": "2020-12-21T19:05:51.025190Z",
     "shell.execute_reply": "2020-12-21T19:05:51.023195Z",
     "shell.execute_reply.started": "2020-12-21T19:05:50.990246Z"
    }
   },
   "outputs": [],
   "source": [
    "def bmi_segment(x):\n",
    "    if x < 18.5:\n",
    "        return 'BMI -18'\n",
    "    if x < 25:\n",
    "        return 'BMI 18-25'\n",
    "    if x < 30:\n",
    "        return 'BMI 25-30'\n",
    "    return 'BMI 30-'\n",
    "  \n",
    "def dxa_levels(x):\n",
    "  if x < 60: return 0\n",
    "  return 1\n",
    "  if x < 25: return '1'\n",
    "  if x < 50: return '2'\n",
    "  if x < 75: return '3'\n",
    "  return '4'\n",
    "  \n",
    "def impute_then_predict(method, seed, max_depth):\n",
    "    imputer = iai.ImputationLearner(\n",
    "        method=method,\n",
    "        cluster=True,\n",
    "        cluster_max_size=100,\n",
    "        random_seed=seed,\n",
    "    )\n",
    "    \n",
    "    train_X_imputed =  preprocessing.scale(imputer.fit_transform(train_X))\n",
    "    test_X_imputed =  preprocessing.scale(imputer.transform(test_X))\n",
    "\n",
    "    logReg = LogisticRegression(random_state=seed, class_weight='balanced').fit(train_X_imputed, train_y)\n",
    "    results = {\n",
    "        'method': method,\n",
    "        'ins_acc':logReg.score(train_X_imputed, train_y),\n",
    "        'oos_acc': logReg.score(test_X_imputed, test_y),\n",
    "        'benchmark_oos_acc': (test_y == stats.mode(train_y)[0]).sum() / test_y.shape[0],\n",
    "        'ins_auc': metrics.roc_auc_score(train_y, logReg.predict_proba(train_X_imputed)[:, 1]),\n",
    "        'oos_auc': metrics.roc_auc_score(test_y, logReg.predict_proba(test_X_imputed)[:, 1]),\n",
    "        'benchmark_oos_auc': metrics.roc_auc_score(test_y, [stats.mode(train_y)[0]] * test_y.shape[0]),\n",
    "    }\n",
    "    \n",
    "    confusion_matrix = metrics.confusion_matrix(test_y, logReg.predict(test_X_imputed))\n",
    "    \n",
    "    roc_curve = []\n",
    "#     roc_curve = iai.ROCCurve(grid, test_X_imputed, test_y)\n",
    "        \n",
    "    return results, logReg, roc_curve, confusion_matrix\n",
    "  \n",
    "def spectrum_mean_kernel(df, window=50, overlap=0):\n",
    "  aux = df.copy()\n",
    "  for i in range(int(331 / (window - overlap)) + 1):\n",
    "    start = (window - overlap) * i\n",
    "    end = start + window\n",
    "    if end > 331:\n",
    "      end = 331\n",
    "    aux['spectrum_mean_' + str(start) + ':' + str(end)] = aux[spectrum_cols[start:end]].mean(axis=1)\n",
    "#     segments.append(spectrum_cols[start:end])\n",
    "  return aux"
   ]
  },
  {
   "cell_type": "code",
   "execution_count": 3,
   "metadata": {
    "execution": {
     "iopub.execute_input": "2020-12-21T19:05:51.029218Z",
     "iopub.status.busy": "2020-12-21T19:05:51.028182Z",
     "iopub.status.idle": "2020-12-21T19:05:53.787190Z",
     "shell.execute_reply": "2020-12-21T19:05:53.786279Z",
     "shell.execute_reply.started": "2020-12-21T19:05:51.029218Z"
    }
   },
   "outputs": [],
   "source": [
    "df = pd.read_csv('data/scio_dxa_densidad_27_11.csv')\n",
    "df['ubicacion'] = df['ubicacion'].astype(str)\n",
    "\n",
    "folio_filter = pd.read_csv('folio_filter.csv')['folio']\n",
    "df = df.loc[~df['folio'].isin(folio_filter)]"
   ]
  },
  {
   "cell_type": "code",
   "execution_count": 4,
   "metadata": {
    "execution": {
     "iopub.execute_input": "2020-12-21T19:05:53.792231Z",
     "iopub.status.busy": "2020-12-21T19:05:53.791234Z",
     "iopub.status.idle": "2020-12-21T19:05:53.811219Z",
     "shell.execute_reply": "2020-12-21T19:05:53.810226Z",
     "shell.execute_reply.started": "2020-12-21T19:05:53.792231Z"
    }
   },
   "outputs": [],
   "source": [
    "target = 'valor_dxa'\n",
    "bin_target = 'bin_' + target\n",
    "s_target = 'segment_' + target\n",
    "\n",
    "features = ['copasosten',\n",
    "            'edad',\n",
    "#             'peso',\n",
    "            'indicedemasacorporal',\n",
    "#             'talla',\n",
    "            'fitzpatrickcolor'\n",
    "           ]\n",
    "\n",
    "spectrum_cols = [col for col in df.columns if col.startswith('spectrum')]\n",
    "sample_raw_cols = [col for col in df.columns if col.startswith('sample_raw')]"
   ]
  },
  {
   "cell_type": "code",
   "execution_count": 5,
   "metadata": {
    "execution": {
     "iopub.execute_input": "2020-12-21T19:05:53.815317Z",
     "iopub.status.busy": "2020-12-21T19:05:53.814213Z",
     "iopub.status.idle": "2020-12-21T19:05:54.111594Z",
     "shell.execute_reply": "2020-12-21T19:05:54.109381Z",
     "shell.execute_reply.started": "2020-12-21T19:05:53.815317Z"
    }
   },
   "outputs": [],
   "source": [
    "df_clean = (df\n",
    "            .dropna(subset=[target])\n",
    "            .loc[lambda x: ~x['ubicacion'].str.contains('Pezon')]\n",
    "            [['folio', 'mama', target] + features + spectrum_cols]\n",
    "            .rename(columns={'indicedemasacorporal': 'BMI'})\n",
    "            .assign(**{bin_target: lambda x: x[target] > 50,#np.quantile(x[target], 0.75),\n",
    "                       s_target: lambda x: x[target].map(dxa_levels),\n",
    "                       \"BMI_segment\": lambda x: x['BMI'].map(bmi_segment)})\n",
    "            .drop(columns=[target])\n",
    "           )"
   ]
  },
  {
   "cell_type": "code",
   "execution_count": 6,
   "metadata": {
    "execution": {
     "iopub.execute_input": "2020-12-21T19:05:54.118575Z",
     "iopub.status.busy": "2020-12-21T19:05:54.115584Z",
     "iopub.status.idle": "2020-12-21T19:05:54.885596Z",
     "shell.execute_reply": "2020-12-21T19:05:54.884717Z",
     "shell.execute_reply.started": "2020-12-21T19:05:54.118575Z"
    }
   },
   "outputs": [],
   "source": [
    "features_final = [f for f in features + ['BMI', 'BMI_segment'] if f != 'indicedemasacorporal']\n",
    "\n",
    "categorical_feats = ['copasosten', \n",
    "                     'fitzpatrickcolor',\n",
    "                     'BMI_segment'\n",
    "                    ]\n",
    "\n",
    "agg_dict = {**{f: 'first' for f in features_final + [bin_target, s_target]},\n",
    "            **{s: 'mean' for s in spectrum_cols}}\n",
    "\n",
    "df_clean_agg = (\n",
    "    df_clean\n",
    "        .groupby(['folio', 'mama'], as_index=False)\n",
    "        .agg(agg_dict)\n",
    "        .assign(**{i: (lambda y: lambda x: x[y].astype('category'))(i) for i in categorical_feats})\n",
    "        .assign(spectrum_mean = lambda x: x[spectrum_cols].mean(axis=1))\n",
    "        .pipe(spectrum_mean_kernel, overlap=25)\n",
    ")"
   ]
  },
  {
   "cell_type": "code",
   "execution_count": 7,
   "metadata": {
    "execution": {
     "iopub.execute_input": "2020-12-21T19:05:54.888588Z",
     "iopub.status.busy": "2020-12-21T19:05:54.887591Z",
     "iopub.status.idle": "2020-12-21T19:05:54.947531Z",
     "shell.execute_reply": "2020-12-21T19:05:54.945498Z",
     "shell.execute_reply.started": "2020-12-21T19:05:54.888588Z"
    }
   },
   "outputs": [],
   "source": [
    "# Select features\n",
    "\n",
    "features_final = ['copasosten',\n",
    "                  'edad',\n",
    "                  'fitzpatrickcolor',\n",
    "                  'BMI'] +\\\n",
    "                [i for i in df_clean_agg.columns if i.startswith('spectrum_mean_')]\n",
    "\n",
    "df_clean_agg = (\n",
    "  df_clean_agg[features_final + [s_target]]\n",
    "  .join(pd.get_dummies(df_clean_agg[[i for i in categorical_feats if i in features_final]]))\n",
    "  .drop(columns=[i for i in categorical_feats if i in features_final])\n",
    ")"
   ]
  },
  {
   "cell_type": "code",
   "execution_count": 8,
   "metadata": {
    "execution": {
     "iopub.execute_input": "2020-12-21T19:05:54.952389Z",
     "iopub.status.busy": "2020-12-21T19:05:54.951393Z",
     "iopub.status.idle": "2020-12-21T19:06:01.707276Z",
     "shell.execute_reply": "2020-12-21T19:06:01.705247Z",
     "shell.execute_reply.started": "2020-12-21T19:05:54.952389Z"
    }
   },
   "outputs": [],
   "source": [
    "X = df_clean_agg.drop(columns=[s_target])\n",
    "y = df_clean_agg[s_target]\n",
    "\n",
    "(train_X, train_y), (test_X, test_y) = iai.split_data('classification', X, y, seed=1)"
   ]
  },
  {
   "cell_type": "code",
   "execution_count": 9,
   "metadata": {
    "execution": {
     "iopub.execute_input": "2020-12-21T19:06:01.710386Z",
     "iopub.status.busy": "2020-12-21T19:06:01.709407Z",
     "iopub.status.idle": "2020-12-21T19:06:10.853614Z",
     "shell.execute_reply": "2020-12-21T19:06:10.852588Z",
     "shell.execute_reply.started": "2020-12-21T19:06:01.710386Z"
    }
   },
   "outputs": [],
   "source": [
    "results, model, roc_curve, confusion_matrix = impute_then_predict('mean', 1, range(2, 8))"
   ]
  },
  {
   "cell_type": "code",
   "execution_count": 13,
   "metadata": {
    "execution": {
     "iopub.execute_input": "2020-12-21T17:20:40.693152Z",
     "iopub.status.busy": "2020-12-21T17:20:40.692156Z",
     "iopub.status.idle": "2020-12-21T17:20:40.714095Z",
     "shell.execute_reply": "2020-12-21T17:20:40.713103Z",
     "shell.execute_reply.started": "2020-12-21T17:20:40.693152Z"
    }
   },
   "outputs": [
    {
     "data": {
      "text/plain": [
       "({'method': 'mean',\n",
       "  'ins_acc': 0.7692307692307693,\n",
       "  'oos_acc': 0.7704918032786885,\n",
       "  'benchmark_oos_acc': 0.7377049180327869,\n",
       "  'ins_auc': 0.8470774091627171,\n",
       "  'oos_auc': 0.8538194444444445,\n",
       "  'benchmark_oos_auc': 0.5},\n",
       " array([[66, 24],\n",
       "        [ 4, 28]], dtype=int64))"
      ]
     },
     "execution_count": 13,
     "metadata": {},
     "output_type": "execute_result"
    }
   ],
   "source": [
    "results, confusion_matrix"
   ]
  },
  {
   "cell_type": "code",
   "execution_count": 10,
   "metadata": {
    "execution": {
     "iopub.execute_input": "2020-12-21T13:44:37.514521Z",
     "iopub.status.busy": "2020-12-21T13:44:37.514521Z",
     "iopub.status.idle": "2020-12-21T13:44:37.545641Z",
     "shell.execute_reply": "2020-12-21T13:44:37.543646Z",
     "shell.execute_reply.started": "2020-12-21T13:44:37.514521Z"
    }
   },
   "outputs": [
    {
     "data": {
      "text/plain": [
       "({'method': 'mean',\n",
       "  'ins_acc': 0.7692307692307693,\n",
       "  'oos_acc': 0.7704918032786885,\n",
       "  'benchmark_oos_acc': 0.7377049180327869,\n",
       "  'ins_auc': 0.8470774091627171,\n",
       "  'oos_auc': 0.8538194444444445,\n",
       "  'benchmark_oos_auc': 0.5},\n",
       " array([[66, 24],\n",
       "        [ 4, 28]], dtype=int64))"
      ]
     },
     "execution_count": 10,
     "metadata": {},
     "output_type": "execute_result"
    }
   ],
   "source": [
    "results, confusion_matrix"
   ]
  },
  {
   "cell_type": "code",
   "execution_count": 10,
   "metadata": {
    "execution": {
     "iopub.execute_input": "2020-12-18T20:45:13.075218Z",
     "iopub.status.busy": "2020-12-18T20:45:13.073844Z",
     "iopub.status.idle": "2020-12-18T20:45:13.134856Z",
     "shell.execute_reply": "2020-12-18T20:45:13.134856Z",
     "shell.execute_reply.started": "2020-12-18T20:45:13.074210Z"
    }
   },
   "outputs": [
    {
     "data": {
      "text/plain": [
       "({'method': 'mean',\n",
       "  'ins_acc': 0.7097902097902098,\n",
       "  'oos_acc': 0.7622950819672131,\n",
       "  'benchmark_oos_acc': 0.7377049180327869,\n",
       "  'ins_auc': 0.8203159557661928,\n",
       "  'oos_auc': 0.8289930555555556,\n",
       "  'benchmark_oos_auc': 0.5},\n",
       " array([[65, 25],\n",
       "        [ 4, 28]], dtype=int64))"
      ]
     },
     "execution_count": 10,
     "metadata": {},
     "output_type": "execute_result"
    }
   ],
   "source": [
    "results, confusion_matrix"
   ]
  },
  {
   "cell_type": "code",
   "execution_count": 11,
   "metadata": {
    "execution": {
     "iopub.execute_input": "2020-12-18T20:45:13.139852Z",
     "iopub.status.busy": "2020-12-18T20:45:13.138808Z",
     "iopub.status.idle": "2020-12-18T20:45:13.773606Z",
     "shell.execute_reply": "2020-12-18T20:45:13.772756Z",
     "shell.execute_reply.started": "2020-12-18T20:45:13.139852Z"
    }
   },
   "outputs": [
    {
     "ename": "AttributeError",
     "evalue": "'LogisticRegression' object has no attribute 'feature_importances_'",
     "output_type": "error",
     "traceback": [
      "\u001b[1;31m---------------------------------------------------------------------------\u001b[0m",
      "\u001b[1;31mAttributeError\u001b[0m                            Traceback (most recent call last)",
      "\u001b[1;32m<ipython-input-11-b26eb7c5711c>\u001b[0m in \u001b[0;36m<module>\u001b[1;34m\u001b[0m\n\u001b[1;32m----> 1\u001b[1;33m \u001b[0mpd\u001b[0m\u001b[1;33m.\u001b[0m\u001b[0mDataFrame\u001b[0m\u001b[1;33m(\u001b[0m\u001b[1;33m{\u001b[0m\u001b[1;34m'feature'\u001b[0m\u001b[1;33m:\u001b[0m \u001b[0mlist\u001b[0m\u001b[1;33m(\u001b[0m\u001b[0mtrain_X\u001b[0m\u001b[1;33m.\u001b[0m\u001b[0mcolumns\u001b[0m\u001b[1;33m)\u001b[0m\u001b[1;33m,\u001b[0m \u001b[1;34m'coefficient'\u001b[0m\u001b[1;33m:\u001b[0m \u001b[0mmodel\u001b[0m\u001b[1;33m.\u001b[0m\u001b[0mfeature_importances_\u001b[0m\u001b[1;33m}\u001b[0m\u001b[1;33m)\u001b[0m\u001b[1;33m\u001b[0m\u001b[1;33m\u001b[0m\u001b[0m\n\u001b[0m",
      "\u001b[1;31mAttributeError\u001b[0m: 'LogisticRegression' object has no attribute 'feature_importances_'"
     ]
    }
   ],
   "source": [
    "pd.DataFrame({'feature': list(train_X.columns), 'coefficient': model.feature_importances_})"
   ]
  },
  {
   "cell_type": "code",
   "execution_count": 43,
   "metadata": {
    "execution": {
     "iopub.execute_input": "2020-12-17T03:25:24.521465Z",
     "iopub.status.busy": "2020-12-17T03:25:24.514509Z",
     "iopub.status.idle": "2020-12-17T03:25:24.531253Z",
     "shell.execute_reply": "2020-12-17T03:25:24.530168Z",
     "shell.execute_reply.started": "2020-12-17T03:25:24.521465Z"
    }
   },
   "outputs": [
    {
     "data": {
      "text/plain": [
       "{'method': 'mean',\n",
       " 'ins_acc': 0.7692307692307693,\n",
       " 'oos_acc': 0.7704918032786885,\n",
       " 'benchmark_oos_acc': 0.7377049180327869,\n",
       " 'ins_auc': 0.8470774091627171,\n",
       " 'oos_auc': 0.8538194444444445,\n",
       " 'benchmark_oos_auc': 0.5}"
      ]
     },
     "execution_count": 43,
     "metadata": {},
     "output_type": "execute_result"
    }
   ],
   "source": [
    "results"
   ]
  },
  {
   "cell_type": "code",
   "execution_count": 44,
   "metadata": {
    "execution": {
     "iopub.execute_input": "2020-12-17T03:25:27.925850Z",
     "iopub.status.busy": "2020-12-17T03:25:27.925850Z",
     "iopub.status.idle": "2020-12-17T03:25:27.943165Z",
     "shell.execute_reply": "2020-12-17T03:25:27.941736Z",
     "shell.execute_reply.started": "2020-12-17T03:25:27.925850Z"
    }
   },
   "outputs": [
    {
     "data": {
      "text/plain": [
       "array([[66, 24],\n",
       "       [ 4, 28]], dtype=int64)"
      ]
     },
     "execution_count": 44,
     "metadata": {},
     "output_type": "execute_result"
    }
   ],
   "source": [
    "confusion_matrix"
   ]
  },
  {
   "cell_type": "code",
   "execution_count": 53,
   "metadata": {
    "execution": {
     "iopub.execute_input": "2020-12-17T04:01:52.581440Z",
     "iopub.status.busy": "2020-12-17T04:01:52.581440Z",
     "iopub.status.idle": "2020-12-17T04:01:52.606522Z",
     "shell.execute_reply": "2020-12-17T04:01:52.605211Z",
     "shell.execute_reply.started": "2020-12-17T04:01:52.581440Z"
    }
   },
   "outputs": [
    {
     "data": {
      "text/html": [
       "<div>\n",
       "<style scoped>\n",
       "    .dataframe tbody tr th:only-of-type {\n",
       "        vertical-align: middle;\n",
       "    }\n",
       "\n",
       "    .dataframe tbody tr th {\n",
       "        vertical-align: top;\n",
       "    }\n",
       "\n",
       "    .dataframe thead th {\n",
       "        text-align: right;\n",
       "    }\n",
       "</style>\n",
       "<table border=\"1\" class=\"dataframe\">\n",
       "  <thead>\n",
       "    <tr style=\"text-align: right;\">\n",
       "      <th></th>\n",
       "      <th>feature</th>\n",
       "      <th>coefficient</th>\n",
       "    </tr>\n",
       "  </thead>\n",
       "  <tbody>\n",
       "    <tr>\n",
       "      <th>0</th>\n",
       "      <td>edad</td>\n",
       "      <td>0.144199</td>\n",
       "    </tr>\n",
       "    <tr>\n",
       "      <th>1</th>\n",
       "      <td>BMI</td>\n",
       "      <td>-1.464124</td>\n",
       "    </tr>\n",
       "    <tr>\n",
       "      <th>2</th>\n",
       "      <td>copasosten_A</td>\n",
       "      <td>0.203707</td>\n",
       "    </tr>\n",
       "    <tr>\n",
       "      <th>3</th>\n",
       "      <td>copasosten_B</td>\n",
       "      <td>0.298666</td>\n",
       "    </tr>\n",
       "    <tr>\n",
       "      <th>4</th>\n",
       "      <td>copasosten_C</td>\n",
       "      <td>-0.434942</td>\n",
       "    </tr>\n",
       "    <tr>\n",
       "      <th>5</th>\n",
       "      <td>copasosten_D</td>\n",
       "      <td>-0.185124</td>\n",
       "    </tr>\n",
       "    <tr>\n",
       "      <th>6</th>\n",
       "      <td>fitzpatrickcolor_II</td>\n",
       "      <td>0.213402</td>\n",
       "    </tr>\n",
       "    <tr>\n",
       "      <th>7</th>\n",
       "      <td>fitzpatrickcolor_III</td>\n",
       "      <td>-0.312149</td>\n",
       "    </tr>\n",
       "    <tr>\n",
       "      <th>8</th>\n",
       "      <td>fitzpatrickcolor_IV</td>\n",
       "      <td>0.184857</td>\n",
       "    </tr>\n",
       "    <tr>\n",
       "      <th>9</th>\n",
       "      <td>fitzpatrickcolor_V</td>\n",
       "      <td>-0.240752</td>\n",
       "    </tr>\n",
       "  </tbody>\n",
       "</table>\n",
       "</div>"
      ],
      "text/plain": [
       "                feature  coefficient\n",
       "0                  edad     0.144199\n",
       "1                   BMI    -1.464124\n",
       "2          copasosten_A     0.203707\n",
       "3          copasosten_B     0.298666\n",
       "4          copasosten_C    -0.434942\n",
       "5          copasosten_D    -0.185124\n",
       "6   fitzpatrickcolor_II     0.213402\n",
       "7  fitzpatrickcolor_III    -0.312149\n",
       "8   fitzpatrickcolor_IV     0.184857\n",
       "9    fitzpatrickcolor_V    -0.240752"
      ]
     },
     "execution_count": 53,
     "metadata": {},
     "output_type": "execute_result"
    }
   ],
   "source": [
    "pd.DataFrame({'feature': list(train_X.columns), 'coefficient': model.coef_[0]})"
   ]
  },
  {
   "cell_type": "code",
   "execution_count": 46,
   "metadata": {
    "execution": {
     "iopub.execute_input": "2020-12-17T03:46:57.199406Z",
     "iopub.status.busy": "2020-12-17T03:46:57.199406Z",
     "iopub.status.idle": "2020-12-17T03:46:57.214627Z",
     "shell.execute_reply": "2020-12-17T03:46:57.214627Z",
     "shell.execute_reply.started": "2020-12-17T03:46:57.199406Z"
    }
   },
   "outputs": [
    {
     "data": {
      "text/plain": [
       "{'C': 1.0,\n",
       " 'class_weight': 'balanced',\n",
       " 'dual': False,\n",
       " 'fit_intercept': True,\n",
       " 'intercept_scaling': 1,\n",
       " 'l1_ratio': None,\n",
       " 'max_iter': 100,\n",
       " 'multi_class': 'auto',\n",
       " 'n_jobs': None,\n",
       " 'penalty': 'l2',\n",
       " 'random_state': 1,\n",
       " 'solver': 'lbfgs',\n",
       " 'tol': 0.0001,\n",
       " 'verbose': 0,\n",
       " 'warm_start': False}"
      ]
     },
     "execution_count": 46,
     "metadata": {},
     "output_type": "execute_result"
    }
   ],
   "source": [
    "model.get_params()"
   ]
  }
 ],
 "metadata": {
  "kernelspec": {
   "display_name": "Python 3",
   "language": "python",
   "name": "python3"
  },
  "language_info": {
   "codemirror_mode": {
    "name": "ipython",
    "version": 3
   },
   "file_extension": ".py",
   "mimetype": "text/x-python",
   "name": "python",
   "nbconvert_exporter": "python",
   "pygments_lexer": "ipython3",
   "version": "3.8.2"
  }
 },
 "nbformat": 4,
 "nbformat_minor": 4
}
