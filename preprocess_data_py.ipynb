{
 "cells": [
  {
   "cell_type": "code",
   "execution_count": 1,
   "metadata": {},
   "outputs": [],
   "source": [
    "import pandas as pd\n",
    "import numpy as np"
   ]
  },
  {
   "cell_type": "code",
   "execution_count": 2,
   "metadata": {},
   "outputs": [],
   "source": [
    "def fix_spectrum(df):\n",
    "    aux = df\n",
    "    aux[spectrum_cols + ['edad', 'peso', 'talla', 'radiopezon']] = aux[spectrum_cols + ['edad', 'peso', 'talla', 'radiopezon']].applymap(lambda x: np.nan if type(x) == str and not x.startswith('0.') else x)\n",
    "    return aux\n",
    "\n",
    "def ubicacion_to_mama(y):\n",
    "    if str(y)[0:2] in ['1-', '2-', '3-', '4-', '5-']:\n",
    "        return 'left'\n",
    "    elif str(y)[0] in ['6', '7', '8', '9', '10']:\n",
    "        return 'right'\n",
    "    else:\n",
    "        return 'left_2'"
   ]
  },
  {
   "cell_type": "code",
   "execution_count": 3,
   "metadata": {},
   "outputs": [],
   "source": [
    "dxa_df = (\n",
    "    pd.read_csv('data_raw/ECO11200-ScioAnita_DATA_2020-11-25_1901.csv', sep=',')\n",
    "        .loc[lambda x: x['check_scio'] == 1]\n",
    "        .drop_duplicates('cod_child')\n",
    "        .pipe(lambda x: x[['cod_child'] + [i for i in x.columns if i.startswith('dxa')]])\n",
    "        .melt(id_vars='cod_child', var_name='medicion_dxa', value_name='valor_dxa')\n",
    "        .assign(mama = lambda x: x['medicion_dxa'].map(lambda y: 'left' if '_lle' in y else 'right' if '_rle' in y else 'left_2'),\n",
    "                valor_dxa = lambda x: x['valor_dxa'].abs())\n",
    ")"
   ]
  },
  {
   "cell_type": "code",
   "execution_count": 4,
   "metadata": {},
   "outputs": [
    {
     "name": "stderr",
     "output_type": "stream",
     "text": [
      "c:\\python38\\lib\\site-packages\\IPython\\core\\interactiveshell.py:3062: DtypeWarning: Columns (5,7,9,12,13,14,15,16,17,18,19,20,21,22,23,24,25,26,27,28,29,30,31,32,33,34,35,36,37,38,39,40,41,42,43,44,45,46,47,48,49,50,51,52,53,54,55,56,57,58,59,60,61,62,63,64,65,66,67,68,69,70,71,72,73,74,75,76,77,78,79,80,81,82,83,84,85,86,87,88,89,90,91,92,93,94,95,96,97,98,99,100,101,102,103,104,105) have mixed types.Specify dtype option on import or set low_memory=False.\n",
      "  has_raised = await self.run_ast_nodes(code_ast.body, cell_name,\n"
     ]
    }
   ],
   "source": [
    "scio_df = pd.read_csv('data_raw/Collection_21_nov_2019.csv', sep=',')\n",
    "scio_cols = scio_df.columns\n",
    "spectrum_cols = [i for i in scio_cols if i.startswith('spectrum')]\n",
    "sample_cols = [i for i in scio_cols if i.startswith('sample')]\n",
    "\n",
    "scio_df = (\n",
    "    scio_df\n",
    "        .drop(columns=[i for i in scio_cols if i.startswith('wr')])\n",
    "        .pipe(fix_spectrum)\n",
    "        .assign(**{col: (lambda c: lambda x: x[c].astype(float))(col) for col in spectrum_cols + sample_cols})\n",
    "        .rename(columns={i: i[:-3] for i in spectrum_cols + sample_cols})\n",
    "        .drop(columns=['v1019', 'espacio'])\n",
    "        .assign(mama = lambda x: x['ubicacion'].map(ubicacion_to_mama),\n",
    "                ubicacion = lambda x: x['ubicacion'].astype(str))\n",
    ")"
   ]
  },
  {
   "cell_type": "code",
   "execution_count": 8,
   "metadata": {},
   "outputs": [],
   "source": [
    "(\n",
    "    scio_df\n",
    "        .merge(dxa_df, left_on=['folio', 'mama'], right_on=['cod_child', 'mama'])\n",
    "        .drop(columns=['cod_child', 'id']\n",
    "        .to_csv('data/scio_dxa_full_27_11.csv')\n",
    ")"
   ]
  },
  {
   "cell_type": "code",
   "execution_count": 5,
   "metadata": {},
   "outputs": [],
   "source": [
    "# Densidad only\n",
    "(\n",
    "    scio_df\n",
    "        .merge(dxa_df, left_on=['folio', 'mama'], right_on=['cod_child', 'mama'])\n",
    "        .loc[lambda x: x['medicion_dxa'].str.contains('_bd')]\n",
    "        .drop(columns=['cod_child', 'id'])\n",
    "        .to_csv('data/scio_dxa_densidad_28_11.csv')\n",
    ")"
   ]
  },
  {
   "cell_type": "code",
   "execution_count": null,
   "metadata": {},
   "outputs": [],
   "source": []
  }
 ],
 "metadata": {
  "kernelspec": {
   "display_name": "Python 3",
   "language": "python",
   "name": "python3"
  },
  "language_info": {
   "codemirror_mode": {
    "name": "ipython",
    "version": 3
   },
   "file_extension": ".py",
   "mimetype": "text/x-python",
   "name": "python",
   "nbconvert_exporter": "python",
   "pygments_lexer": "ipython3",
   "version": "3.8.2"
  }
 },
 "nbformat": 4,
 "nbformat_minor": 4
}
