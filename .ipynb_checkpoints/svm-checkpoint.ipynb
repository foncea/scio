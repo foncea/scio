{
 "cells": [
  {
   "cell_type": "code",
   "execution_count": 11,
   "metadata": {
    "execution": {
     "iopub.execute_input": "2020-12-17T03:14:29.454329Z",
     "iopub.status.busy": "2020-12-17T03:14:29.454329Z",
     "iopub.status.idle": "2020-12-17T03:14:29.463905Z",
     "shell.execute_reply": "2020-12-17T03:14:29.462344Z",
     "shell.execute_reply.started": "2020-12-17T03:14:29.454329Z"
    }
   },
   "outputs": [],
   "source": [
    "import pandas as pd\n",
    "import numpy as np\n",
    "from scipy import stats\n",
    "\n",
    "from interpretableai import iai\n",
    "\n",
    "from sklearn.linear_model import LogisticRegression\n",
    "from sklearn.svm import LinearSVC\n",
    "from sklearn import metrics\n",
    "from sklearn import preprocessing"
   ]
  },
  {
   "cell_type": "code",
   "execution_count": 26,
   "metadata": {
    "execution": {
     "iopub.execute_input": "2020-12-17T03:17:35.363772Z",
     "iopub.status.busy": "2020-12-17T03:17:35.363772Z",
     "iopub.status.idle": "2020-12-17T03:17:35.398724Z",
     "shell.execute_reply": "2020-12-17T03:17:35.397324Z",
     "shell.execute_reply.started": "2020-12-17T03:17:35.363772Z"
    }
   },
   "outputs": [],
   "source": [
    "def bmi_segment(x):\n",
    "    if x < 18.5:\n",
    "        return 'BMI -18'\n",
    "    if x < 25:\n",
    "        return 'BMI 18-25'\n",
    "    if x < 30:\n",
    "        return 'BMI 25-30'\n",
    "    return 'BMI 30-'\n",
    "  \n",
    "def dxa_levels(x):\n",
    "  if x < 60: return 0\n",
    "  return 1\n",
    "  if x < 25: return '1'\n",
    "  if x < 50: return '2'\n",
    "  if x < 75: return '3'\n",
    "  return '4'\n",
    "  \n",
    "def impute_then_predict(method, seed, max_depth):\n",
    "    imputer = iai.ImputationLearner(\n",
    "        method=method,\n",
    "        cluster=True,\n",
    "        cluster_max_size=100,\n",
    "        random_seed=seed,\n",
    "    )\n",
    "    \n",
    "    train_X_imputed =  preprocessing.scale(imputer.fit_transform(train_X))\n",
    "    test_X_imputed =  preprocessing.scale(imputer.transform(test_X))\n",
    "\n",
    "    logReg = LogisticRegression(random_state=seed).fit(train_X_imputed, train_y)\n",
    "    results = {\n",
    "        'method': method,\n",
    "        'ins_acc':logReg.score(train_X_imputed, train_y),\n",
    "        'oos_acc': logReg.score(test_X_imputed, test_y),\n",
    "        'benchmark_oos_acc': (test_y == stats.mode(train_y)[0]).sum() / test_y.shape[0],\n",
    "        'ins_auc': metrics.roc_auc_score(train_y, logReg.predict_proba(train_X_imputed)[:, 1]),\n",
    "        'oos_auc': metrics.roc_auc_score(test_y, logReg.predict_proba(test_X_imputed)[:, 1]),\n",
    "        'benchmark_oos_auc': metrics.roc_auc_score(test_y, [stats.mode(train_y)[0]] * test_y.shape[0]),\n",
    "    }\n",
    "    \n",
    "    confusion_matrix = metrics.confusion_matrix(test_y, logReg.predict(test_X_imputed))\n",
    "    \n",
    "    roc_curve = []\n",
    "#     roc_curve = iai.ROCCurve(grid, test_X_imputed, test_y)\n",
    "        \n",
    "    return results, logReg, roc_curve, confusion_matrix\n",
    "  \n",
    "def spectrum_mean_kernel(df, window=50, overlap=0):\n",
    "  aux = df.copy()\n",
    "  for i in range(int(331 / (window - overlap)) + 1):\n",
    "    start = (window - overlap) * i\n",
    "    end = start + window\n",
    "    if end > 331:\n",
    "      end = 331\n",
    "    aux['spectrum_mean_' + str(start) + ':' + str(end)] = aux[spectrum_cols[start:end]].mean(axis=1)\n",
    "#     segments.append(spectrum_cols[start:end])\n",
    "  return aux"
   ]
  },
  {
   "cell_type": "code",
   "execution_count": 4,
   "metadata": {
    "execution": {
     "iopub.execute_input": "2020-12-17T03:12:21.924096Z",
     "iopub.status.busy": "2020-12-17T03:12:21.924096Z",
     "iopub.status.idle": "2020-12-17T03:12:24.265374Z",
     "shell.execute_reply": "2020-12-17T03:12:24.263380Z",
     "shell.execute_reply.started": "2020-12-17T03:12:21.924096Z"
    }
   },
   "outputs": [],
   "source": [
    "df = pd.read_csv('data/scio_dxa_densidad_27_11.csv')\n",
    "df['ubicacion'] = df['ubicacion'].astype(str)\n",
    "\n",
    "folio_filter = pd.read_csv('folio_filter.csv')['folio']\n",
    "df = df.loc[~df['folio'].isin(folio_filter)]"
   ]
  },
  {
   "cell_type": "code",
   "execution_count": 5,
   "metadata": {
    "execution": {
     "iopub.execute_input": "2020-12-17T03:12:24.269256Z",
     "iopub.status.busy": "2020-12-17T03:12:24.268014Z",
     "iopub.status.idle": "2020-12-17T03:12:24.288143Z",
     "shell.execute_reply": "2020-12-17T03:12:24.286568Z",
     "shell.execute_reply.started": "2020-12-17T03:12:24.269256Z"
    }
   },
   "outputs": [],
   "source": [
    "target = 'valor_dxa'\n",
    "bin_target = 'bin_' + target\n",
    "s_target = 'segment_' + target\n",
    "\n",
    "features = ['copasosten',\n",
    "            'edad',\n",
    "#             'peso',\n",
    "            'indicedemasacorporal',\n",
    "#             'talla',\n",
    "            'fitzpatrickcolor'\n",
    "           ]\n",
    "\n",
    "spectrum_cols = [col for col in df.columns if col.startswith('spectrum')]\n",
    "sample_raw_cols = [col for col in df.columns if col.startswith('sample_raw')]"
   ]
  },
  {
   "cell_type": "code",
   "execution_count": 6,
   "metadata": {
    "execution": {
     "iopub.execute_input": "2020-12-17T03:12:24.292434Z",
     "iopub.status.busy": "2020-12-17T03:12:24.291438Z",
     "iopub.status.idle": "2020-12-17T03:12:24.520494Z",
     "shell.execute_reply": "2020-12-17T03:12:24.518160Z",
     "shell.execute_reply.started": "2020-12-17T03:12:24.292434Z"
    }
   },
   "outputs": [],
   "source": [
    "df_clean = (df\n",
    "            .dropna(subset=[target])\n",
    "            .loc[lambda x: ~x['ubicacion'].str.contains('Pezon')]\n",
    "            [['folio', 'mama', target] + features + spectrum_cols]\n",
    "            .rename(columns={'indicedemasacorporal': 'BMI'})\n",
    "            .assign(**{bin_target: lambda x: x[target] > 50,#np.quantile(x[target], 0.75),\n",
    "                       s_target: lambda x: x[target].map(dxa_levels),\n",
    "                       \"BMI_segment\": lambda x: x['BMI'].map(bmi_segment)})\n",
    "            .drop(columns=[target])\n",
    "           )"
   ]
  },
  {
   "cell_type": "code",
   "execution_count": 7,
   "metadata": {
    "execution": {
     "iopub.execute_input": "2020-12-17T03:12:25.187824Z",
     "iopub.status.busy": "2020-12-17T03:12:25.187824Z",
     "iopub.status.idle": "2020-12-17T03:12:25.829308Z",
     "shell.execute_reply": "2020-12-17T03:12:25.829308Z",
     "shell.execute_reply.started": "2020-12-17T03:12:25.187824Z"
    }
   },
   "outputs": [],
   "source": [
    "features_final = [f for f in features + ['BMI', 'BMI_segment'] if f != 'indicedemasacorporal']\n",
    "\n",
    "categorical_feats = ['copasosten', \n",
    "                     'fitzpatrickcolor',\n",
    "                     'BMI_segment'\n",
    "                    ]\n",
    "\n",
    "agg_dict = {**{f: 'first' for f in features_final + [bin_target, s_target]},\n",
    "            **{s: 'mean' for s in spectrum_cols}}\n",
    "\n",
    "df_clean_agg = (\n",
    "    df_clean\n",
    "        .groupby(['folio', 'mama'], as_index=False)\n",
    "        .agg(agg_dict)\n",
    "        .assign(**{i: (lambda y: lambda x: x[y].astype('category'))(i) for i in categorical_feats})\n",
    "        .assign(spectrum_mean = lambda x: x[spectrum_cols].mean(axis=1))\n",
    "        .pipe(spectrum_mean_kernel, overlap=25)\n",
    ")"
   ]
  },
  {
   "cell_type": "code",
   "execution_count": 8,
   "metadata": {
    "execution": {
     "iopub.execute_input": "2020-12-17T03:12:27.587967Z",
     "iopub.status.busy": "2020-12-17T03:12:27.587967Z",
     "iopub.status.idle": "2020-12-17T03:12:27.635725Z",
     "shell.execute_reply": "2020-12-17T03:12:27.634726Z",
     "shell.execute_reply.started": "2020-12-17T03:12:27.587967Z"
    }
   },
   "outputs": [],
   "source": [
    "# Select features\n",
    "\n",
    "features_final = ['copasosten',\n",
    "                  'edad',\n",
    "                  'fitzpatrickcolor',\n",
    "                  'BMI'] + \\\n",
    "                [i for i in df_clean_agg.columns if i.startswith('spectrum_mean_')]\n",
    "\n",
    "df_clean_agg = (\n",
    "  df_clean_agg[features_final + [s_target]]\n",
    "  .join(pd.get_dummies(df_clean_agg[[i for i in categorical_feats if i in features_final]]))\n",
    "  .drop(columns=[i for i in categorical_feats if i in features_final])\n",
    ")"
   ]
  },
  {
   "cell_type": "code",
   "execution_count": 9,
   "metadata": {
    "execution": {
     "iopub.execute_input": "2020-12-17T03:12:31.909781Z",
     "iopub.status.busy": "2020-12-17T03:12:31.909781Z",
     "iopub.status.idle": "2020-12-17T03:12:38.204114Z",
     "shell.execute_reply": "2020-12-17T03:12:38.203685Z",
     "shell.execute_reply.started": "2020-12-17T03:12:31.909781Z"
    }
   },
   "outputs": [],
   "source": [
    "X = df_clean_agg.drop(columns=[s_target])\n",
    "y = df_clean_agg[s_target]\n",
    "\n",
    "(train_X, train_y), (test_X, test_y) = iai.split_data('classification', X, y, seed=1)"
   ]
  },
  {
   "cell_type": "code",
   "execution_count": 68,
   "metadata": {
    "execution": {
     "iopub.execute_input": "2020-12-16T23:05:45.845002Z",
     "iopub.status.busy": "2020-12-16T23:05:45.844039Z",
     "iopub.status.idle": "2020-12-16T23:05:45.967674Z",
     "shell.execute_reply": "2020-12-16T23:05:45.966676Z",
     "shell.execute_reply.started": "2020-12-16T23:05:45.845002Z"
    }
   },
   "outputs": [],
   "source": [
    "imputer = iai.ImputationLearner(\n",
    "    method='mean',\n",
    "    cluster=True,\n",
    "    cluster_max_size=100,\n",
    "    random_seed=1,\n",
    ")\n",
    "\n",
    "train_X_imputed =  preprocessing.scale(imputer.fit_transform(train_X))\n",
    "test_X_imputed =  preprocessing.scale(imputer.transform(test_X))\n",
    "\n",
    "logReg = LogisticRegression(random_state=0).fit(train_X_imputed, train_y)"
   ]
  },
  {
   "cell_type": "code",
   "execution_count": 69,
   "metadata": {
    "execution": {
     "iopub.execute_input": "2020-12-16T23:05:46.545714Z",
     "iopub.status.busy": "2020-12-16T23:05:46.545714Z",
     "iopub.status.idle": "2020-12-16T23:05:46.559365Z",
     "shell.execute_reply": "2020-12-16T23:05:46.557383Z",
     "shell.execute_reply.started": "2020-12-16T23:05:46.545714Z"
    }
   },
   "outputs": [
    {
     "data": {
      "text/plain": [
       "array([[81,  9],\n",
       "       [17, 15]], dtype=int64)"
      ]
     },
     "execution_count": 69,
     "metadata": {},
     "output_type": "execute_result"
    }
   ],
   "source": [
    "logReg.score(test_X_imputed, test_y)\n",
    "confusion_matrix(test_y, logReg.predict(test_X_imputed))"
   ]
  },
  {
   "cell_type": "code",
   "execution_count": 27,
   "metadata": {
    "execution": {
     "iopub.execute_input": "2020-12-17T03:17:38.047850Z",
     "iopub.status.busy": "2020-12-17T03:17:38.046853Z",
     "iopub.status.idle": "2020-12-17T03:17:38.207683Z",
     "shell.execute_reply": "2020-12-17T03:17:38.206487Z",
     "shell.execute_reply.started": "2020-12-17T03:17:38.047850Z"
    }
   },
   "outputs": [],
   "source": [
    "results, model, roc_curve, confusion_matrix = impute_then_predict('mean', 1, range(2, 8))"
   ]
  },
  {
   "cell_type": "code",
   "execution_count": 28,
   "metadata": {
    "execution": {
     "iopub.execute_input": "2020-12-17T03:17:38.582416Z",
     "iopub.status.busy": "2020-12-17T03:17:38.582416Z",
     "iopub.status.idle": "2020-12-17T03:17:38.599564Z",
     "shell.execute_reply": "2020-12-17T03:17:38.598557Z",
     "shell.execute_reply.started": "2020-12-17T03:17:38.582416Z"
    }
   },
   "outputs": [
    {
     "data": {
      "text/plain": [
       "{'method': 'mean',\n",
       " 'ins_acc': 0.7937062937062938,\n",
       " 'oos_acc': 0.7868852459016393,\n",
       " 'benchmark_oos_acc': 0.7377049180327869,\n",
       " 'ins_auc': 0.8457503949447078,\n",
       " 'oos_auc': 0.8555555555555555,\n",
       " 'benchmark_oos_auc': 0.5}"
      ]
     },
     "execution_count": 28,
     "metadata": {},
     "output_type": "execute_result"
    }
   ],
   "source": [
    "results"
   ]
  },
  {
   "cell_type": "code",
   "execution_count": 29,
   "metadata": {
    "execution": {
     "iopub.execute_input": "2020-12-17T03:18:24.031468Z",
     "iopub.status.busy": "2020-12-17T03:18:24.031468Z",
     "iopub.status.idle": "2020-12-17T03:18:24.046745Z",
     "shell.execute_reply": "2020-12-17T03:18:24.045750Z",
     "shell.execute_reply.started": "2020-12-17T03:18:24.031468Z"
    }
   },
   "outputs": [
    {
     "data": {
      "text/plain": [
       "array([[81,  9],\n",
       "       [17, 15]], dtype=int64)"
      ]
     },
     "execution_count": 29,
     "metadata": {},
     "output_type": "execute_result"
    }
   ],
   "source": [
    "confusion_matrix"
   ]
  },
  {
   "cell_type": "code",
   "execution_count": 39,
   "metadata": {
    "execution": {
     "iopub.execute_input": "2020-12-17T03:24:21.632452Z",
     "iopub.status.busy": "2020-12-17T03:24:21.632452Z",
     "iopub.status.idle": "2020-12-17T03:24:21.656479Z",
     "shell.execute_reply": "2020-12-17T03:24:21.655273Z",
     "shell.execute_reply.started": "2020-12-17T03:24:21.632452Z"
    }
   },
   "outputs": [
    {
     "data": {
      "text/html": [
       "<div>\n",
       "<style scoped>\n",
       "    .dataframe tbody tr th:only-of-type {\n",
       "        vertical-align: middle;\n",
       "    }\n",
       "\n",
       "    .dataframe tbody tr th {\n",
       "        vertical-align: top;\n",
       "    }\n",
       "\n",
       "    .dataframe thead th {\n",
       "        text-align: right;\n",
       "    }\n",
       "</style>\n",
       "<table border=\"1\" class=\"dataframe\">\n",
       "  <thead>\n",
       "    <tr style=\"text-align: right;\">\n",
       "      <th></th>\n",
       "      <th>feature</th>\n",
       "      <th>coefficient</th>\n",
       "    </tr>\n",
       "  </thead>\n",
       "  <tbody>\n",
       "    <tr>\n",
       "      <th>0</th>\n",
       "      <td>edad</td>\n",
       "      <td>0.221252</td>\n",
       "    </tr>\n",
       "    <tr>\n",
       "      <th>1</th>\n",
       "      <td>BMI</td>\n",
       "      <td>-1.399473</td>\n",
       "    </tr>\n",
       "    <tr>\n",
       "      <th>2</th>\n",
       "      <td>spectrum_mean_0:50</td>\n",
       "      <td>0.828863</td>\n",
       "    </tr>\n",
       "    <tr>\n",
       "      <th>3</th>\n",
       "      <td>spectrum_mean_25:75</td>\n",
       "      <td>0.487280</td>\n",
       "    </tr>\n",
       "    <tr>\n",
       "      <th>4</th>\n",
       "      <td>spectrum_mean_50:100</td>\n",
       "      <td>0.180586</td>\n",
       "    </tr>\n",
       "    <tr>\n",
       "      <th>5</th>\n",
       "      <td>spectrum_mean_75:125</td>\n",
       "      <td>-0.267701</td>\n",
       "    </tr>\n",
       "    <tr>\n",
       "      <th>6</th>\n",
       "      <td>spectrum_mean_100:150</td>\n",
       "      <td>-0.509057</td>\n",
       "    </tr>\n",
       "    <tr>\n",
       "      <th>7</th>\n",
       "      <td>spectrum_mean_125:175</td>\n",
       "      <td>-0.003733</td>\n",
       "    </tr>\n",
       "    <tr>\n",
       "      <th>8</th>\n",
       "      <td>spectrum_mean_150:200</td>\n",
       "      <td>0.890817</td>\n",
       "    </tr>\n",
       "    <tr>\n",
       "      <th>9</th>\n",
       "      <td>spectrum_mean_175:225</td>\n",
       "      <td>0.269910</td>\n",
       "    </tr>\n",
       "    <tr>\n",
       "      <th>10</th>\n",
       "      <td>spectrum_mean_200:250</td>\n",
       "      <td>-0.934495</td>\n",
       "    </tr>\n",
       "    <tr>\n",
       "      <th>11</th>\n",
       "      <td>spectrum_mean_225:275</td>\n",
       "      <td>-0.973859</td>\n",
       "    </tr>\n",
       "    <tr>\n",
       "      <th>12</th>\n",
       "      <td>spectrum_mean_250:300</td>\n",
       "      <td>-0.379803</td>\n",
       "    </tr>\n",
       "    <tr>\n",
       "      <th>13</th>\n",
       "      <td>spectrum_mean_275:325</td>\n",
       "      <td>0.184486</td>\n",
       "    </tr>\n",
       "    <tr>\n",
       "      <th>14</th>\n",
       "      <td>spectrum_mean_300:331</td>\n",
       "      <td>0.166709</td>\n",
       "    </tr>\n",
       "    <tr>\n",
       "      <th>15</th>\n",
       "      <td>spectrum_mean_325:331</td>\n",
       "      <td>-0.075425</td>\n",
       "    </tr>\n",
       "    <tr>\n",
       "      <th>16</th>\n",
       "      <td>copasosten_A</td>\n",
       "      <td>0.138469</td>\n",
       "    </tr>\n",
       "    <tr>\n",
       "      <th>17</th>\n",
       "      <td>copasosten_B</td>\n",
       "      <td>0.255712</td>\n",
       "    </tr>\n",
       "    <tr>\n",
       "      <th>18</th>\n",
       "      <td>copasosten_C</td>\n",
       "      <td>-0.342238</td>\n",
       "    </tr>\n",
       "    <tr>\n",
       "      <th>19</th>\n",
       "      <td>copasosten_D</td>\n",
       "      <td>-0.177488</td>\n",
       "    </tr>\n",
       "    <tr>\n",
       "      <th>20</th>\n",
       "      <td>fitzpatrickcolor_II</td>\n",
       "      <td>0.142255</td>\n",
       "    </tr>\n",
       "    <tr>\n",
       "      <th>21</th>\n",
       "      <td>fitzpatrickcolor_III</td>\n",
       "      <td>-0.299243</td>\n",
       "    </tr>\n",
       "    <tr>\n",
       "      <th>22</th>\n",
       "      <td>fitzpatrickcolor_IV</td>\n",
       "      <td>0.214122</td>\n",
       "    </tr>\n",
       "    <tr>\n",
       "      <th>23</th>\n",
       "      <td>fitzpatrickcolor_V</td>\n",
       "      <td>-0.163279</td>\n",
       "    </tr>\n",
       "  </tbody>\n",
       "</table>\n",
       "</div>"
      ],
      "text/plain": [
       "                  feature  coefficient\n",
       "0                    edad     0.221252\n",
       "1                     BMI    -1.399473\n",
       "2      spectrum_mean_0:50     0.828863\n",
       "3     spectrum_mean_25:75     0.487280\n",
       "4    spectrum_mean_50:100     0.180586\n",
       "5    spectrum_mean_75:125    -0.267701\n",
       "6   spectrum_mean_100:150    -0.509057\n",
       "7   spectrum_mean_125:175    -0.003733\n",
       "8   spectrum_mean_150:200     0.890817\n",
       "9   spectrum_mean_175:225     0.269910\n",
       "10  spectrum_mean_200:250    -0.934495\n",
       "11  spectrum_mean_225:275    -0.973859\n",
       "12  spectrum_mean_250:300    -0.379803\n",
       "13  spectrum_mean_275:325     0.184486\n",
       "14  spectrum_mean_300:331     0.166709\n",
       "15  spectrum_mean_325:331    -0.075425\n",
       "16           copasosten_A     0.138469\n",
       "17           copasosten_B     0.255712\n",
       "18           copasosten_C    -0.342238\n",
       "19           copasosten_D    -0.177488\n",
       "20    fitzpatrickcolor_II     0.142255\n",
       "21   fitzpatrickcolor_III    -0.299243\n",
       "22    fitzpatrickcolor_IV     0.214122\n",
       "23     fitzpatrickcolor_V    -0.163279"
      ]
     },
     "execution_count": 39,
     "metadata": {},
     "output_type": "execute_result"
    }
   ],
   "source": [
    "pd.DataFrame({'feature': list(train_X.columns), 'coefficient': model.coef_[0]})"
   ]
  },
  {
   "cell_type": "code",
   "execution_count": 38,
   "metadata": {
    "execution": {
     "iopub.execute_input": "2020-12-17T03:24:16.778535Z",
     "iopub.status.busy": "2020-12-17T03:24:16.778535Z",
     "iopub.status.idle": "2020-12-17T03:24:16.795267Z",
     "shell.execute_reply": "2020-12-17T03:24:16.794752Z",
     "shell.execute_reply.started": "2020-12-17T03:24:16.778535Z"
    }
   },
   "outputs": [
    {
     "data": {
      "text/plain": [
       "(array([[ 0.22125203, -1.39947305,  0.8288633 ,  0.4872801 ,  0.18058585,\n",
       "         -0.26770089, -0.50905674, -0.00373348,  0.89081727,  0.2699102 ,\n",
       "         -0.93449483, -0.97385853, -0.37980324,  0.18448561,  0.16670942,\n",
       "         -0.07542483,  0.13846926,  0.25571234, -0.34223824, -0.17748842,\n",
       "          0.14225494, -0.29924344,  0.21412162, -0.16327923]]),)"
      ]
     },
     "execution_count": 38,
     "metadata": {},
     "output_type": "execute_result"
    }
   ],
   "source": [
    "model.coef_,"
   ]
  }
 ],
 "metadata": {
  "kernelspec": {
   "display_name": "Python 3",
   "language": "python",
   "name": "python3"
  },
  "language_info": {
   "codemirror_mode": {
    "name": "ipython",
    "version": 3
   },
   "file_extension": ".py",
   "mimetype": "text/x-python",
   "name": "python",
   "nbconvert_exporter": "python",
   "pygments_lexer": "ipython3",
   "version": "3.8.2"
  }
 },
 "nbformat": 4,
 "nbformat_minor": 4
}
