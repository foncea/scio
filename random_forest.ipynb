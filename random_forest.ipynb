{
 "cells": [
  {
   "cell_type": "code",
   "execution_count": 2,
   "metadata": {
    "execution": {
     "iopub.execute_input": "2020-12-21T17:57:35.027116Z",
     "iopub.status.busy": "2020-12-21T17:57:35.026118Z",
     "iopub.status.idle": "2020-12-21T17:57:58.482590Z",
     "shell.execute_reply": "2020-12-21T17:57:58.481718Z",
     "shell.execute_reply.started": "2020-12-21T17:57:35.027116Z"
    }
   },
   "outputs": [],
   "source": [
    "import pandas as pd\n",
    "import numpy as np\n",
    "from scipy import stats\n",
    "\n",
    "from interpretableai import iai\n",
    "\n",
    "from sklearn.ensemble import RandomForestClassifier\n",
    "from sklearn.svm import SVC\n",
    "from sklearn import metrics\n",
    "from sklearn import preprocessing"
   ]
  },
  {
   "cell_type": "code",
   "execution_count": 3,
   "metadata": {
    "execution": {
     "iopub.execute_input": "2020-12-21T17:57:58.485584Z",
     "iopub.status.busy": "2020-12-21T17:57:58.484585Z",
     "iopub.status.idle": "2020-12-21T17:57:58.511512Z",
     "shell.execute_reply": "2020-12-21T17:57:58.510515Z",
     "shell.execute_reply.started": "2020-12-21T17:57:58.485584Z"
    }
   },
   "outputs": [],
   "source": [
    "def bmi_segment(x):\n",
    "    if x < 18.5:\n",
    "        return 'BMI -18'\n",
    "    if x < 25:\n",
    "        return 'BMI 18-25'\n",
    "    if x < 30:\n",
    "        return 'BMI 25-30'\n",
    "    return 'BMI 30-'\n",
    "  \n",
    "def dxa_levels(x):\n",
    "  if x < 60: return 0\n",
    "  return 1\n",
    "  if x < 25: return '1'\n",
    "  if x < 50: return '2'\n",
    "  if x < 75: return '3'\n",
    "  return '4'\n",
    "  \n",
    "def impute_then_predict(method, seed, max_depth, n_estimators):\n",
    "    imputer = iai.ImputationLearner(\n",
    "        method=method,\n",
    "        cluster=True,\n",
    "        cluster_max_size=100,\n",
    "        random_seed=seed,\n",
    "    )\n",
    "    \n",
    "    train_X_imputed =  preprocessing.scale(imputer.fit_transform(train_X))\n",
    "    test_X_imputed =  preprocessing.scale(imputer.transform(test_X))\n",
    "\n",
    "    model = RandomForestClassifier(n_estimators = n_estimators, \n",
    "                                  random_state = seed,\n",
    "                                  max_depth = max_depth,\n",
    "                                  class_weight = 'balanced_subsample',\n",
    "                                  criterion = 'entropy'\n",
    "                                  )\n",
    "    model.fit(train_X_imputed, train_y)\n",
    "    \n",
    "    results = {\n",
    "        'method': method,\n",
    "        'ins_acc': model.score(train_X_imputed, train_y),\n",
    "        'oos_acc': model.score(test_X_imputed, test_y),\n",
    "        'benchmark_oos_acc': (test_y == stats.mode(train_y)[0]).sum() / test_y.shape[0],\n",
    "        'ins_auc': metrics.roc_auc_score(train_y, model.predict_proba(train_X_imputed)[:, 1]),\n",
    "        'oos_auc': metrics.roc_auc_score(test_y, model.predict_proba(test_X_imputed)[:, 1]),\n",
    "#         'benchmark_oos_auc': metrics.roc_auc_score(test_y, [stats.mode(train_y)[0]] * test_y.shape[0]),\n",
    "    }\n",
    "    \n",
    "    confusion_matrix = metrics.confusion_matrix(test_y, model.predict(test_X_imputed))\n",
    "    \n",
    "    roc_curve = []\n",
    "#     roc_curve = iai.ROCCurve(grid, test_X_imputed, test_y)\n",
    "        \n",
    "    return results, model, roc_curve, confusion_matrix\n",
    "  \n",
    "def spectrum_mean_kernel(df, window=50, overlap=0):\n",
    "  aux = df.copy()\n",
    "  for i in range(int(331 / (window - overlap)) + 1):\n",
    "    start = (window - overlap) * i\n",
    "    end = start + window\n",
    "    if end > 331:\n",
    "      end = 331\n",
    "    aux['spectrum_mean_' + str(start) + ':' + str(end)] = aux[spectrum_cols[start:end]].mean(axis=1)\n",
    "#     segments.append(spectrum_cols[start:end])\n",
    "  return aux"
   ]
  },
  {
   "cell_type": "code",
   "execution_count": 4,
   "metadata": {
    "execution": {
     "iopub.execute_input": "2020-12-21T17:57:58.515502Z",
     "iopub.status.busy": "2020-12-21T17:57:58.514505Z",
     "iopub.status.idle": "2020-12-21T17:58:00.759026Z",
     "shell.execute_reply": "2020-12-21T17:58:00.758028Z",
     "shell.execute_reply.started": "2020-12-21T17:57:58.515502Z"
    }
   },
   "outputs": [],
   "source": [
    "df = pd.read_csv('data/scio_dxa_densidad_27_11.csv')\n",
    "df['ubicacion'] = df['ubicacion'].astype(str)\n",
    "\n",
    "folio_filter = pd.read_csv('folio_filter.csv')['folio']\n",
    "df = df.loc[~df['folio'].isin(folio_filter)]"
   ]
  },
  {
   "cell_type": "code",
   "execution_count": 5,
   "metadata": {
    "execution": {
     "iopub.execute_input": "2020-12-21T17:58:00.763015Z",
     "iopub.status.busy": "2020-12-21T17:58:00.762018Z",
     "iopub.status.idle": "2020-12-21T17:58:00.777975Z",
     "shell.execute_reply": "2020-12-21T17:58:00.775980Z",
     "shell.execute_reply.started": "2020-12-21T17:58:00.763015Z"
    }
   },
   "outputs": [],
   "source": [
    "target = 'valor_dxa'\n",
    "bin_target = 'bin_' + target\n",
    "s_target = 'segment_' + target\n",
    "\n",
    "features = ['copasosten',\n",
    "            'edad',\n",
    "#             'peso',\n",
    "            'indicedemasacorporal',\n",
    "#             'talla',\n",
    "            'fitzpatrickcolor'\n",
    "           ]\n",
    "\n",
    "spectrum_cols = [col for col in df.columns if col.startswith('spectrum')]\n",
    "sample_raw_cols = [col for col in df.columns if col.startswith('sample_raw')]"
   ]
  },
  {
   "cell_type": "code",
   "execution_count": 6,
   "metadata": {
    "execution": {
     "iopub.execute_input": "2020-12-21T17:58:00.780967Z",
     "iopub.status.busy": "2020-12-21T17:58:00.779969Z",
     "iopub.status.idle": "2020-12-21T17:58:01.013345Z",
     "shell.execute_reply": "2020-12-21T17:58:01.011350Z",
     "shell.execute_reply.started": "2020-12-21T17:58:00.780967Z"
    }
   },
   "outputs": [],
   "source": [
    "df_clean = (df\n",
    "            .dropna(subset=[target])\n",
    "            .loc[lambda x: ~x['ubicacion'].str.contains('Pezon')]\n",
    "            [['folio', 'mama', target] + features + spectrum_cols]\n",
    "            .rename(columns={'indicedemasacorporal': 'BMI'})\n",
    "            .assign(**{bin_target: lambda x: x[target] > 50,#np.quantile(x[target], 0.75),\n",
    "                       s_target: lambda x: x[target].map(dxa_levels),\n",
    "                       \"BMI_segment\": lambda x: x['BMI'].map(bmi_segment)})\n",
    "            .drop(columns=[target])\n",
    "           )"
   ]
  },
  {
   "cell_type": "code",
   "execution_count": 7,
   "metadata": {
    "execution": {
     "iopub.execute_input": "2020-12-21T17:58:01.017335Z",
     "iopub.status.busy": "2020-12-21T17:58:01.015341Z",
     "iopub.status.idle": "2020-12-21T17:58:01.433224Z",
     "shell.execute_reply": "2020-12-21T17:58:01.432360Z",
     "shell.execute_reply.started": "2020-12-21T17:58:01.016337Z"
    }
   },
   "outputs": [],
   "source": [
    "features_final = [f for f in features + ['BMI', 'BMI_segment'] if f != 'indicedemasacorporal']\n",
    "\n",
    "categorical_feats = ['copasosten', \n",
    "                     'fitzpatrickcolor',\n",
    "                     'BMI_segment'\n",
    "                    ]\n",
    "\n",
    "agg_dict = {**{f: 'first' for f in features_final + [bin_target, s_target]},\n",
    "            **{s: 'mean' for s in spectrum_cols}}\n",
    "\n",
    "df_clean_agg = (\n",
    "    df_clean\n",
    "        .groupby(['folio', 'mama'], as_index=False)\n",
    "        .agg(agg_dict)\n",
    "        .assign(**{i: (lambda y: lambda x: x[y].astype('category'))(i) for i in categorical_feats})\n",
    "        .assign(spectrum_mean = lambda x: x[spectrum_cols].mean(axis=1))\n",
    "        .pipe(spectrum_mean_kernel, window=50, overlap=25)\n",
    ")"
   ]
  },
  {
   "cell_type": "code",
   "execution_count": 8,
   "metadata": {
    "execution": {
     "iopub.execute_input": "2020-12-21T17:58:01.437216Z",
     "iopub.status.busy": "2020-12-21T17:58:01.436238Z",
     "iopub.status.idle": "2020-12-21T17:58:01.462446Z",
     "shell.execute_reply": "2020-12-21T17:58:01.461239Z",
     "shell.execute_reply.started": "2020-12-21T17:58:01.437216Z"
    }
   },
   "outputs": [],
   "source": [
    "# Select features\n",
    "\n",
    "features_final = [i for i in df_clean_agg.columns if i.startswith('spectrum_mean_')] +\\\n",
    "                 [\n",
    "                  'copasosten',\n",
    "                  'edad',\n",
    "                  'fitzpatrickcolor',\n",
    "                  'BMI'\n",
    "                  ]\n",
    "                \n",
    "\n",
    "df_final = (\n",
    "  df_clean_agg[features_final + [s_target]]\n",
    "  .join(pd.get_dummies(df_clean_agg[[i for i in categorical_feats if i in features_final]]))\n",
    "  .drop(columns=[i for i in categorical_feats if i in features_final])\n",
    ")"
   ]
  },
  {
   "cell_type": "code",
   "execution_count": 9,
   "metadata": {
    "execution": {
     "iopub.execute_input": "2020-12-21T17:58:01.465444Z",
     "iopub.status.busy": "2020-12-21T17:58:01.465444Z",
     "iopub.status.idle": "2020-12-21T17:58:07.631950Z",
     "shell.execute_reply": "2020-12-21T17:58:07.630953Z",
     "shell.execute_reply.started": "2020-12-21T17:58:01.465444Z"
    }
   },
   "outputs": [],
   "source": [
    "X = df_final.drop(columns=[s_target])\n",
    "y = df_final[s_target]\n",
    "\n",
    "(train_X, train_y), (test_X, test_y) = iai.split_data('classification', X, y, seed=1)"
   ]
  },
  {
   "cell_type": "code",
   "execution_count": 10,
   "metadata": {
    "execution": {
     "iopub.execute_input": "2020-12-21T17:58:07.636936Z",
     "iopub.status.busy": "2020-12-21T17:58:07.634943Z",
     "iopub.status.idle": "2020-12-21T17:58:55.229733Z",
     "shell.execute_reply": "2020-12-21T17:58:55.228867Z",
     "shell.execute_reply.started": "2020-12-21T17:58:07.636936Z"
    }
   },
   "outputs": [],
   "source": [
    "results, model, roc_curve, confusion_matrix = impute_then_predict('mean', 1, 4, 10000)"
   ]
  },
  {
   "cell_type": "code",
   "execution_count": 11,
   "metadata": {
    "execution": {
     "iopub.execute_input": "2020-12-21T17:58:55.231730Z",
     "iopub.status.busy": "2020-12-21T17:58:55.230730Z",
     "iopub.status.idle": "2020-12-21T17:58:55.249679Z",
     "shell.execute_reply": "2020-12-21T17:58:55.248681Z",
     "shell.execute_reply.started": "2020-12-21T17:58:55.231730Z"
    }
   },
   "outputs": [
    {
     "data": {
      "text/plain": [
       "({'method': 'mean',\n",
       "  'ins_acc': 0.9090909090909091,\n",
       "  'oos_acc': 0.7868852459016393,\n",
       "  'benchmark_oos_acc': 0.7377049180327869,\n",
       "  'ins_auc': 0.9652448657187994,\n",
       "  'oos_auc': 0.83125},\n",
       " array([[77, 13],\n",
       "        [13, 19]], dtype=int64))"
      ]
     },
     "execution_count": 11,
     "metadata": {},
     "output_type": "execute_result"
    }
   ],
   "source": [
    "results, confusion_matrix"
   ]
  },
  {
   "cell_type": "code",
   "execution_count": 13,
   "metadata": {
    "execution": {
     "iopub.execute_input": "2020-12-21T18:04:42.267727Z",
     "iopub.status.busy": "2020-12-21T18:04:42.266728Z",
     "iopub.status.idle": "2020-12-21T18:04:43.700864Z",
     "shell.execute_reply": "2020-12-21T18:04:43.699866Z",
     "shell.execute_reply.started": "2020-12-21T18:04:42.267727Z"
    }
   },
   "outputs": [
    {
     "data": {
      "text/html": [
       "<div>\n",
       "<style scoped>\n",
       "    .dataframe tbody tr th:only-of-type {\n",
       "        vertical-align: middle;\n",
       "    }\n",
       "\n",
       "    .dataframe tbody tr th {\n",
       "        vertical-align: top;\n",
       "    }\n",
       "\n",
       "    .dataframe thead th {\n",
       "        text-align: right;\n",
       "    }\n",
       "</style>\n",
       "<table border=\"1\" class=\"dataframe\">\n",
       "  <thead>\n",
       "    <tr style=\"text-align: right;\">\n",
       "      <th></th>\n",
       "      <th>feature</th>\n",
       "      <th>coefficient</th>\n",
       "    </tr>\n",
       "  </thead>\n",
       "  <tbody>\n",
       "    <tr>\n",
       "      <th>15</th>\n",
       "      <td>BMI</td>\n",
       "      <td>0.279251</td>\n",
       "    </tr>\n",
       "    <tr>\n",
       "      <th>8</th>\n",
       "      <td>spectrum_mean_200:250</td>\n",
       "      <td>0.079471</td>\n",
       "    </tr>\n",
       "    <tr>\n",
       "      <th>9</th>\n",
       "      <td>spectrum_mean_225:275</td>\n",
       "      <td>0.073932</td>\n",
       "    </tr>\n",
       "    <tr>\n",
       "      <th>4</th>\n",
       "      <td>spectrum_mean_100:150</td>\n",
       "      <td>0.046725</td>\n",
       "    </tr>\n",
       "    <tr>\n",
       "      <th>7</th>\n",
       "      <td>spectrum_mean_175:225</td>\n",
       "      <td>0.046563</td>\n",
       "    </tr>\n",
       "    <tr>\n",
       "      <th>10</th>\n",
       "      <td>spectrum_mean_250:300</td>\n",
       "      <td>0.046318</td>\n",
       "    </tr>\n",
       "    <tr>\n",
       "      <th>2</th>\n",
       "      <td>spectrum_mean_50:100</td>\n",
       "      <td>0.042478</td>\n",
       "    </tr>\n",
       "    <tr>\n",
       "      <th>0</th>\n",
       "      <td>spectrum_mean_0:50</td>\n",
       "      <td>0.042372</td>\n",
       "    </tr>\n",
       "    <tr>\n",
       "      <th>1</th>\n",
       "      <td>spectrum_mean_25:75</td>\n",
       "      <td>0.041920</td>\n",
       "    </tr>\n",
       "    <tr>\n",
       "      <th>3</th>\n",
       "      <td>spectrum_mean_75:125</td>\n",
       "      <td>0.039203</td>\n",
       "    </tr>\n",
       "    <tr>\n",
       "      <th>6</th>\n",
       "      <td>spectrum_mean_150:200</td>\n",
       "      <td>0.038949</td>\n",
       "    </tr>\n",
       "    <tr>\n",
       "      <th>13</th>\n",
       "      <td>spectrum_mean_325:331</td>\n",
       "      <td>0.037012</td>\n",
       "    </tr>\n",
       "    <tr>\n",
       "      <th>12</th>\n",
       "      <td>spectrum_mean_300:331</td>\n",
       "      <td>0.033302</td>\n",
       "    </tr>\n",
       "    <tr>\n",
       "      <th>11</th>\n",
       "      <td>spectrum_mean_275:325</td>\n",
       "      <td>0.033064</td>\n",
       "    </tr>\n",
       "    <tr>\n",
       "      <th>5</th>\n",
       "      <td>spectrum_mean_125:175</td>\n",
       "      <td>0.032382</td>\n",
       "    </tr>\n",
       "    <tr>\n",
       "      <th>21</th>\n",
       "      <td>fitzpatrickcolor_III</td>\n",
       "      <td>0.027878</td>\n",
       "    </tr>\n",
       "    <tr>\n",
       "      <th>18</th>\n",
       "      <td>copasosten_C</td>\n",
       "      <td>0.018919</td>\n",
       "    </tr>\n",
       "    <tr>\n",
       "      <th>14</th>\n",
       "      <td>edad</td>\n",
       "      <td>0.016085</td>\n",
       "    </tr>\n",
       "    <tr>\n",
       "      <th>20</th>\n",
       "      <td>fitzpatrickcolor_II</td>\n",
       "      <td>0.007864</td>\n",
       "    </tr>\n",
       "    <tr>\n",
       "      <th>22</th>\n",
       "      <td>fitzpatrickcolor_IV</td>\n",
       "      <td>0.006845</td>\n",
       "    </tr>\n",
       "    <tr>\n",
       "      <th>16</th>\n",
       "      <td>copasosten_A</td>\n",
       "      <td>0.004629</td>\n",
       "    </tr>\n",
       "    <tr>\n",
       "      <th>17</th>\n",
       "      <td>copasosten_B</td>\n",
       "      <td>0.004621</td>\n",
       "    </tr>\n",
       "    <tr>\n",
       "      <th>19</th>\n",
       "      <td>copasosten_D</td>\n",
       "      <td>0.000156</td>\n",
       "    </tr>\n",
       "    <tr>\n",
       "      <th>23</th>\n",
       "      <td>fitzpatrickcolor_V</td>\n",
       "      <td>0.000059</td>\n",
       "    </tr>\n",
       "  </tbody>\n",
       "</table>\n",
       "</div>"
      ],
      "text/plain": [
       "                  feature  coefficient\n",
       "15                    BMI     0.279251\n",
       "8   spectrum_mean_200:250     0.079471\n",
       "9   spectrum_mean_225:275     0.073932\n",
       "4   spectrum_mean_100:150     0.046725\n",
       "7   spectrum_mean_175:225     0.046563\n",
       "10  spectrum_mean_250:300     0.046318\n",
       "2    spectrum_mean_50:100     0.042478\n",
       "0      spectrum_mean_0:50     0.042372\n",
       "1     spectrum_mean_25:75     0.041920\n",
       "3    spectrum_mean_75:125     0.039203\n",
       "6   spectrum_mean_150:200     0.038949\n",
       "13  spectrum_mean_325:331     0.037012\n",
       "12  spectrum_mean_300:331     0.033302\n",
       "11  spectrum_mean_275:325     0.033064\n",
       "5   spectrum_mean_125:175     0.032382\n",
       "21   fitzpatrickcolor_III     0.027878\n",
       "18           copasosten_C     0.018919\n",
       "14                   edad     0.016085\n",
       "20    fitzpatrickcolor_II     0.007864\n",
       "22    fitzpatrickcolor_IV     0.006845\n",
       "16           copasosten_A     0.004629\n",
       "17           copasosten_B     0.004621\n",
       "19           copasosten_D     0.000156\n",
       "23     fitzpatrickcolor_V     0.000059"
      ]
     },
     "execution_count": 13,
     "metadata": {},
     "output_type": "execute_result"
    }
   ],
   "source": [
    "pd.DataFrame({'feature': list(train_X.columns), 'coefficient': model.feature_importances_}).sort_values('coefficient', ascending=False)"
   ]
  },
  {
   "cell_type": "code",
   "execution_count": 88,
   "metadata": {
    "execution": {
     "iopub.execute_input": "2020-12-17T04:04:44.061602Z",
     "iopub.status.busy": "2020-12-17T04:04:44.060606Z",
     "iopub.status.idle": "2020-12-17T04:04:44.071104Z",
     "shell.execute_reply": "2020-12-17T04:04:44.070107Z",
     "shell.execute_reply.started": "2020-12-17T04:04:44.061602Z"
    }
   },
   "outputs": [
    {
     "data": {
      "text/plain": [
       "{'method': 'mean',\n",
       " 'ins_acc': 0.8006993006993007,\n",
       " 'oos_acc': 0.8278688524590164,\n",
       " 'benchmark_oos_acc': 0.7377049180327869}"
      ]
     },
     "execution_count": 88,
     "metadata": {},
     "output_type": "execute_result"
    }
   ],
   "source": [
    "results, confusion_matrix"
   ]
  },
  {
   "cell_type": "code",
   "execution_count": 89,
   "metadata": {
    "execution": {
     "iopub.execute_input": "2020-12-17T04:04:45.496269Z",
     "iopub.status.busy": "2020-12-17T04:04:45.496269Z",
     "iopub.status.idle": "2020-12-17T04:04:45.510606Z",
     "shell.execute_reply": "2020-12-17T04:04:45.509181Z",
     "shell.execute_reply.started": "2020-12-17T04:04:45.496269Z"
    }
   },
   "outputs": [
    {
     "data": {
      "text/plain": [
       "array([[72, 18],\n",
       "       [ 3, 29]], dtype=int64)"
      ]
     },
     "execution_count": 89,
     "metadata": {},
     "output_type": "execute_result"
    }
   ],
   "source": []
  },
  {
   "cell_type": "code",
   "execution_count": 90,
   "metadata": {
    "execution": {
     "iopub.execute_input": "2020-12-17T04:04:47.560554Z",
     "iopub.status.busy": "2020-12-17T04:04:47.560554Z",
     "iopub.status.idle": "2020-12-17T04:04:47.594980Z",
     "shell.execute_reply": "2020-12-17T04:04:47.593983Z",
     "shell.execute_reply.started": "2020-12-17T04:04:47.560554Z"
    }
   },
   "outputs": [
    {
     "data": {
      "text/html": [
       "<div>\n",
       "<style scoped>\n",
       "    .dataframe tbody tr th:only-of-type {\n",
       "        vertical-align: middle;\n",
       "    }\n",
       "\n",
       "    .dataframe tbody tr th {\n",
       "        vertical-align: top;\n",
       "    }\n",
       "\n",
       "    .dataframe thead th {\n",
       "        text-align: right;\n",
       "    }\n",
       "</style>\n",
       "<table border=\"1\" class=\"dataframe\">\n",
       "  <thead>\n",
       "    <tr style=\"text-align: right;\">\n",
       "      <th></th>\n",
       "      <th>feature</th>\n",
       "      <th>coefficient</th>\n",
       "    </tr>\n",
       "  </thead>\n",
       "  <tbody>\n",
       "    <tr>\n",
       "      <th>0</th>\n",
       "      <td>edad</td>\n",
       "      <td>1.522897e-01</td>\n",
       "    </tr>\n",
       "    <tr>\n",
       "      <th>1</th>\n",
       "      <td>BMI</td>\n",
       "      <td>-1.061765e+00</td>\n",
       "    </tr>\n",
       "    <tr>\n",
       "      <th>2</th>\n",
       "      <td>spectrum_mean_0:3</td>\n",
       "      <td>-7.064979e-02</td>\n",
       "    </tr>\n",
       "    <tr>\n",
       "      <th>3</th>\n",
       "      <td>spectrum_mean_2:5</td>\n",
       "      <td>-2.112009e-02</td>\n",
       "    </tr>\n",
       "    <tr>\n",
       "      <th>4</th>\n",
       "      <td>spectrum_mean_4:7</td>\n",
       "      <td>9.373945e-03</td>\n",
       "    </tr>\n",
       "    <tr>\n",
       "      <th>...</th>\n",
       "      <td>...</td>\n",
       "      <td>...</td>\n",
       "    </tr>\n",
       "    <tr>\n",
       "      <th>171</th>\n",
       "      <td>copasosten_D</td>\n",
       "      <td>-7.315558e-02</td>\n",
       "    </tr>\n",
       "    <tr>\n",
       "      <th>172</th>\n",
       "      <td>fitzpatrickcolor_II</td>\n",
       "      <td>6.775120e-02</td>\n",
       "    </tr>\n",
       "    <tr>\n",
       "      <th>173</th>\n",
       "      <td>fitzpatrickcolor_III</td>\n",
       "      <td>-3.143846e-01</td>\n",
       "    </tr>\n",
       "    <tr>\n",
       "      <th>174</th>\n",
       "      <td>fitzpatrickcolor_IV</td>\n",
       "      <td>2.634483e-01</td>\n",
       "    </tr>\n",
       "    <tr>\n",
       "      <th>175</th>\n",
       "      <td>fitzpatrickcolor_V</td>\n",
       "      <td>2.081668e-16</td>\n",
       "    </tr>\n",
       "  </tbody>\n",
       "</table>\n",
       "<p>176 rows × 2 columns</p>\n",
       "</div>"
      ],
      "text/plain": [
       "                  feature   coefficient\n",
       "0                    edad  1.522897e-01\n",
       "1                     BMI -1.061765e+00\n",
       "2       spectrum_mean_0:3 -7.064979e-02\n",
       "3       spectrum_mean_2:5 -2.112009e-02\n",
       "4       spectrum_mean_4:7  9.373945e-03\n",
       "..                    ...           ...\n",
       "171          copasosten_D -7.315558e-02\n",
       "172   fitzpatrickcolor_II  6.775120e-02\n",
       "173  fitzpatrickcolor_III -3.143846e-01\n",
       "174   fitzpatrickcolor_IV  2.634483e-01\n",
       "175    fitzpatrickcolor_V  2.081668e-16\n",
       "\n",
       "[176 rows x 2 columns]"
      ]
     },
     "execution_count": 90,
     "metadata": {},
     "output_type": "execute_result"
    }
   ],
   "source": [
    "pd.DataFrame({'feature': list(train_X.columns), 'coefficient': model.coef_[0]})"
   ]
  },
  {
   "cell_type": "code",
   "execution_count": null,
   "metadata": {},
   "outputs": [],
   "source": []
  }
 ],
 "metadata": {
  "kernelspec": {
   "display_name": "Python 3",
   "language": "python",
   "name": "python3"
  },
  "language_info": {
   "codemirror_mode": {
    "name": "ipython",
    "version": 3
   },
   "file_extension": ".py",
   "mimetype": "text/x-python",
   "name": "python",
   "nbconvert_exporter": "python",
   "pygments_lexer": "ipython3",
   "version": "3.8.2"
  }
 },
 "nbformat": 4,
 "nbformat_minor": 4
}
